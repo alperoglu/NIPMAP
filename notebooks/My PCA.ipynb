{
 "cells": [
  {
   "cell_type": "code",
   "execution_count": 2,
   "metadata": {},
   "outputs": [
    {
     "data": {
      "text/plain": [
       "'/srv/mfs/hausserlab/fabio/data_analysis/notebooks'"
      ]
     },
     "execution_count": 2,
     "metadata": {},
     "output_type": "execute_result"
    }
   ],
   "source": [
    "%load_ext autoreload\n",
    "%autoreload 2\n",
    "import os\n",
    "import sys\n",
    "module_path = os.path.abspath(os.path.join('..'))\n",
    "if module_path not in sys.path:\n",
    "    sys.path.append(module_path)\n",
    "os.getcwd()"
   ]
  },
  {
   "cell_type": "code",
   "execution_count": 74,
   "metadata": {},
   "outputs": [],
   "source": [
    "import numpy as np\n",
    "from src.mPCA import mPCA\n",
    "from sklearn.decomposition import PCA\n",
    "from src.utils.visualization import plot_scatter_pca"
   ]
  },
  {
   "cell_type": "code",
   "execution_count": 76,
   "metadata": {},
   "outputs": [],
   "source": [
    "fake_data = np.array([[5, 13], [21, 43], [55, 62]])\n",
    "to_project = np.array([[0, 1], [1, 0], [0, 1]])"
   ]
  },
  {
   "cell_type": "code",
   "execution_count": 69,
   "metadata": {},
   "outputs": [
    {
     "name": "stdout",
     "output_type": "stream",
     "text": [
      "[[-34.11808299  -3.6607182 ]\n",
      " [ -1.76907532   6.80549902]\n",
      " [ 35.88715831  -3.14478082]]\n"
     ]
    }
   ],
   "source": [
    "# MY PCA\n",
    "pca = mPCA()\n",
    "res = pca.fit_transform(fake_data)\n",
    "print(res)"
   ]
  },
  {
   "cell_type": "code",
   "execution_count": 70,
   "metadata": {},
   "outputs": [
    {
     "data": {
      "text/plain": [
       "array([[-46.05059358,  -8.81970947],\n",
       "       [-45.3559476 ,  -8.1003577 ],\n",
       "       [-36.02908045, -15.71675772]])"
      ]
     },
     "execution_count": 70,
     "metadata": {},
     "output_type": "execute_result"
    }
   ],
   "source": [
    "pca.project_data(to_project)"
   ]
  },
  {
   "cell_type": "code",
   "execution_count": 71,
   "metadata": {},
   "outputs": [
    {
     "name": "stdout",
     "output_type": "stream",
     "text": [
      "[[-34.11808299  -3.6607182 ]\n",
      " [ -1.76907532   6.80549902]\n",
      " [ 35.88715831  -3.14478082]]\n"
     ]
    }
   ],
   "source": [
    "# SKLEARN PCA\n",
    "pca2 = PCA()\n",
    "pc = pca2.fit_transform(fake_data)\n",
    "print(pc)"
   ]
  },
  {
   "cell_type": "code",
   "execution_count": 72,
   "metadata": {},
   "outputs": [
    {
     "data": {
      "text/plain": [
       "array([[-46.05059358,  -8.81970947],\n",
       "       [-45.3559476 ,  -8.1003577 ],\n",
       "       [-36.02908045, -15.71675772]])"
      ]
     },
     "execution_count": 72,
     "metadata": {},
     "output_type": "execute_result"
    }
   ],
   "source": [
    "pca2.transform(to_project)"
   ]
  },
  {
   "cell_type": "code",
   "execution_count": 54,
   "metadata": {},
   "outputs": [],
   "source": [
    "np.argsort([4, 1])\n",
    "d = fake_data[:, np.argsort([4, 1])]"
   ]
  },
  {
   "cell_type": "code",
   "execution_count": 27,
   "metadata": {},
   "outputs": [
    {
     "data": {
      "text/plain": [
       "array([[20, 10],\n",
       "       [44, 31],\n",
       "       [63, 51]])"
      ]
     },
     "execution_count": 27,
     "metadata": {},
     "output_type": "execute_result"
    }
   ],
   "source": [
    "d"
   ]
  },
  {
   "cell_type": "code",
   "execution_count": 77,
   "metadata": {},
   "outputs": [
    {
     "data": {
      "image/png": "[encoded data removed]",
      "text/plain": [
       "<Figure size 432x288 with 1 Axes>"
      ]
     },
     "metadata": {
      "needs_background": "light"
     },
     "output_type": "display_data"
    }
   ],
   "source": [
    "plot_scatter_pca(res, [0, 0])"
   ]
  }
 ],
 "metadata": {
  "kernelspec": {
   "display_name": "Python 3",
   "language": "python",
   "name": "python3"
  },
  "language_info": {
   "codemirror_mode": {
    "name": "ipython",
    "version": 3
   },
   "file_extension": ".py",
   "mimetype": "text/x-python",
   "name": "python",
   "nbconvert_exporter": "python",
   "pygments_lexer": "ipython3",
   "version": "3.6.8"
  }
 },
 "nbformat": 4,
 "nbformat_minor": 4
}
