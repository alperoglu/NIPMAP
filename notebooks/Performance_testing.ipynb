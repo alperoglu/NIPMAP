{
 "cells": [
  {
   "cell_type": "code",
   "execution_count": 1,
   "metadata": {},
   "outputs": [
    {
     "data": {
      "text/plain": [
       "'/srv/mfs/hausserlab/fabio/data_analysis/notebooks'"
      ]
     },
     "execution_count": 1,
     "metadata": {},
     "output_type": "execute_result"
    }
   ],
   "source": [
    "%load_ext autoreload\n",
    "%autoreload 2\n",
    "import os\n",
    "import sys\n",
    "module_path = os.path.abspath(os.path.join('..'))\n",
    "if module_path not in sys.path:\n",
    "    sys.path.append(module_path)\n",
    "os.getcwd()"
   ]
  },
  {
   "cell_type": "code",
   "execution_count": 2,
   "metadata": {},
   "outputs": [],
   "source": [
    "import pandas as pd\n",
    "from skimage import io\n",
    "import matplotlib.pyplot as plt\n",
    "import numpy as np\n",
    "import pickle\n",
    "from src.CellsImage import CellsImage \n",
    "from src.utils.equations import color_mapper"
   ]
  },
  {
   "cell_type": "code",
   "execution_count": 81,
   "metadata": {},
   "outputs": [
    {
     "name": "stdout",
     "output_type": "stream",
     "text": [
      "The line_profiler extension is already loaded. To reload it, use:\n",
      "  %reload_ext line_profiler\n",
      "The heat extension is already loaded. To reload it, use:\n",
      "  %reload_ext heat\n"
     ]
    }
   ],
   "source": [
    "%load_ext line_profiler\n",
    "%load_ext heat"
   ]
  },
  {
   "cell_type": "code",
   "execution_count": 104,
   "metadata": {},
   "outputs": [],
   "source": [
    "from functools import partial\n",
    "import multiprocessing\n",
    "from src.CellAbundance import CellAbundance\n",
    "def site_generation(x, y, t, x_span, y_span, radius, grid_point): \n",
    "    x_center = (x_span[grid_point[0]+1] + x_span[grid_point[0]]) / 2\n",
    "    y_center = (y_span[grid_point[1]+1] + y_span[grid_point[1]]) / 2\n",
    "    idx = np.where((x - x_center) * (x - x_center) + (y - y_center) * (y - y_center) <= radius * radius)\n",
    "    site = np.array([(x[i], y[i], t[i]) for i in idx])\n",
    "    return site, grid_point\n",
    "\n",
    "def get_segmentation_matrix_parallel(data, cell_types, pca_obj, archetype_obj, color_fun, h=800, w=800, radius=100, granularity=200):\n",
    "    m = np.zeros((h, w, 3), dtype='uint8')\n",
    "    x_span = np.arange(0, h+granularity, granularity)\n",
    "    y_span = np.arange(0, w+granularity, granularity)\n",
    "\n",
    "    y = data['x'].to_numpy()\n",
    "    x = data['y'].to_numpy()\n",
    "    t = data['cell_type'].to_numpy()\n",
    "\n",
    "    mesh = np.array(np.meshgrid(range(len(x_span)-1), range(len(y_span)-1)))\n",
    "    combinations = list(mesh.T.reshape(-1, 2))\n",
    "    sites_pool = multiprocessing.Pool(20)\n",
    "    f = partial(site_generation, x, y, t, x_span, y_span, radius)\n",
    "    results = sites_pool.map(f, combinations)\n",
    "\n",
    "    for site, grid_point in results:\n",
    "        if len(site) > 0:\n",
    "            counts = CellAbundance.calculate_cells_count(site, cell_types)\n",
    "        else:\n",
    "            counts = np.zeros(len(cell_types))\n",
    "        new_pc = pca_obj.transform(counts.reshape(1, -1))\n",
    "        _, alfa = archetype_obj.transform(new_pc[:, :3])\n",
    "        color_submatrix = np.tile(color_fun(alfa[:, 0]), granularity*granularity).reshape(granularity, granularity, -1)\n",
    "        m[x_span[grid_point[0]]:x_span[grid_point[0]+1], y_span[grid_point[1]]:y_span[grid_point[1]+1], :] = color_submatrix\n",
    "\n",
    "    return m\n",
    "\n",
    "patientID = 1\n",
    "GRANULARITY = 25\n",
    "CELL_TYPES = ['Kreatin-positive tumor', 'Treg', 'CD3-T', 'Neutrophils', 'Tumor', 'B', \n",
    "              'Macrophages', 'Mesenchymal-like', 'Other Immune', 'CD8-T', 'CD4-T', \n",
    "              'Undefined', 'Mono/Neu', 'DC/Mono', 'Endothelial', 'DC', 'NK']\n",
    "cell_data = pd.read_csv(\"../../output/cell_positions_data/patient{}_cell_positions.csv\".format(patientID))\n",
    "with open(\"pca_3d\", \"rb\") as f:\n",
    "    pca_3d = pickle.load(f)\n",
    "\n",
    "with open(\"AA_3D\", \"rb\") as f:\n",
    "    AA_3D = pickle.load(f)\n",
    "color_vector = np.array([[255, 0, 0], [0, 255, 0], [0, 0, 255], [255, 255, 0]]).T\n",
    "color_fun = partial(color_mapper, color_vector)\n",
    "%lprun -f get_segmentation_matrix_parallel get_segmentation_matrix_parallel(cell_data, CELL_TYPES, pca_3d, AA_3D, color_fun, h=800, w=800, radius=100, granularity=200)\n"
   ]
  },
  {
   "cell_type": "code",
   "execution_count": 15,
   "metadata": {},
   "outputs": [],
   "source": [
    "granularity = 25\n",
    "alfa = np.random.rand(3, 1)"
   ]
  },
  {
   "cell_type": "code",
   "execution_count": 18,
   "metadata": {},
   "outputs": [
    {
     "name": "stdout",
     "output_type": "stream",
     "text": [
      "10.1 ms ± 45.4 µs per loop (mean ± std. dev. of 7 runs, 100 loops each)\n"
     ]
    }
   ],
   "source": [
    "%%timeit\n",
    "color_submatrix = np.array([[color_fun(alfa[:, 0]) for _ in range(granularity)] for _ in range(granularity)])"
   ]
  },
  {
   "cell_type": "code",
   "execution_count": 28,
   "metadata": {},
   "outputs": [
    {
     "name": "stdout",
     "output_type": "stream",
     "text": [
      "23.4 µs ± 255 ns per loop (mean ± std. dev. of 7 runs, 10000 loops each)\n"
     ]
    }
   ],
   "source": [
    "%%timeit\n",
    "color_submatrix = np.tile(color_fun(alfa[:, 0]), 25*25).reshape(25, 25, -1)\n",
    "#color_submatrix.sha"
   ]
  },
  {
   "cell_type": "code",
   "execution_count": 99,
   "metadata": {},
   "outputs": [],
   "source": [
    "from src.CellAbundance import CellAbundance\n",
    "def site_generation(x, y, t, x_span, y_span, radius, grid_point): \n",
    "    x_center = (x_span[grid_point[0]+1] + x_span[grid_point[0]]) / 2\n",
    "    y_center = (y_span[grid_point[1]+1] + y_span[grid_point[1]]) / 2\n",
    "    idx = np.where((x - x_center) * (x - x_center) + (y - y_center) * (y - y_center) <= radius * radius)\n",
    "    site = [(x[i], y[i], t[i]) for i in idx]\n",
    "    return site, grid_point\n",
    "\n",
    "CELL_TYPES = ['Kreatin-positive tumor', 'Treg', 'CD3-T', 'Neutrophils', 'Tumor', 'B', \n",
    "              'Macrophages', 'Mesenchymal-like', 'Other Immune', 'CD8-T', 'CD4-T', \n",
    "              'Undefined', 'Mono/Neu', 'DC/Mono', 'Endothelial', 'DC', 'NK']\n",
    "x = np.random.randint(800, size=1000)\n",
    "y = np.random.randint(800, size=1000)\n",
    "x_span = np.arange(0, 825, 25)\n",
    "y_span = np.arange(0, 825, 25)\n",
    "t = np.random.choice(CELL_TYPES, 1000)\n",
    "radius = 100\n",
    "mesh = np.array(np.meshgrid(range(len(x_span)-1), range(len(y_span)-1)))\n",
    "grid_point = list(mesh.T.reshape(-1, 2))[200]\n",
    "%lprun -f site_generation site_generation(x, y, t, x_span, y_span, radius, grid_point)"
   ]
  },
  {
   "cell_type": "code",
   "execution_count": 100,
   "metadata": {},
   "outputs": [
    {
     "name": "stdout",
     "output_type": "stream",
     "text": [
      "22.5 µs ± 83.9 ns per loop (mean ± std. dev. of 7 runs, 10000 loops each)\n"
     ]
    }
   ],
   "source": [
    "%%timeit\n",
    "s, g = site_generation(x, y, t, x_span, y_span, radius, grid_point)"
   ]
  }
 ],
 "metadata": {
  "kernelspec": {
   "display_name": "Python 3",
   "language": "python",
   "name": "python3"
  },
  "language_info": {
   "codemirror_mode": {
    "name": "ipython",
    "version": 3
   },
   "file_extension": ".py",
   "mimetype": "text/x-python",
   "name": "python",
   "nbconvert_exporter": "python",
   "pygments_lexer": "ipython3",
   "version": "3.6.8"
  }
 },
 "nbformat": 4,
 "nbformat_minor": 4
}
