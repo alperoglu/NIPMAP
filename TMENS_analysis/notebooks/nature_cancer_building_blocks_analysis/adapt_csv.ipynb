{
 "cells": [
  {
   "cell_type": "code",
   "execution_count": 1,
   "metadata": {},
   "outputs": [],
   "source": [
    "import pandas as pd\n",
    "import os"
   ]
  },
  {
   "cell_type": "code",
   "execution_count": 2,
   "metadata": {},
   "outputs": [],
   "source": [
    "data = pd.read_csv(\"../../../nature_cancer_dataset/single_cell_data.csv\")"
   ]
  },
  {
   "cell_type": "code",
   "execution_count": 3,
   "metadata": {},
   "outputs": [
    {
     "data": {
      "text/html": [
       "<div>\n",
       "<style scoped>\n",
       "    .dataframe tbody tr th:only-of-type {\n",
       "        vertical-align: middle;\n",
       "    }\n",
       "\n",
       "    .dataframe tbody tr th {\n",
       "        vertical-align: top;\n",
       "    }\n",
       "\n",
       "    .dataframe thead th {\n",
       "        text-align: right;\n",
       "    }\n",
       "</style>\n",
       "<table border=\"1\" class=\"dataframe\">\n",
       "  <thead>\n",
       "    <tr style=\"text-align: right;\">\n",
       "      <th></th>\n",
       "      <th>file_id</th>\n",
       "      <th>metabricId</th>\n",
       "      <th>core_id</th>\n",
       "      <th>ImageNumber</th>\n",
       "      <th>ObjectNumber</th>\n",
       "      <th>HH3_total</th>\n",
       "      <th>CK19</th>\n",
       "      <th>CK8_18</th>\n",
       "      <th>Twist</th>\n",
       "      <th>CD68</th>\n",
       "      <th>...</th>\n",
       "      <th>DNA1</th>\n",
       "      <th>DNA2</th>\n",
       "      <th>H3K27me3</th>\n",
       "      <th>CK5</th>\n",
       "      <th>Fibronectin</th>\n",
       "      <th>Location_Center_X</th>\n",
       "      <th>Location_Center_Y</th>\n",
       "      <th>SOM_nodes</th>\n",
       "      <th>pg_cluster</th>\n",
       "      <th>description</th>\n",
       "    </tr>\n",
       "  </thead>\n",
       "  <tbody>\n",
       "    <tr>\n",
       "      <th>0</th>\n",
       "      <td>MB0000_1_527</td>\n",
       "      <td>MB-0000</td>\n",
       "      <td>1</td>\n",
       "      <td>527</td>\n",
       "      <td>1</td>\n",
       "      <td>1.058000</td>\n",
       "      <td>0.000000</td>\n",
       "      <td>0.000000</td>\n",
       "      <td>0.000000</td>\n",
       "      <td>0.618000</td>\n",
       "      <td>...</td>\n",
       "      <td>17.330166</td>\n",
       "      <td>17.718166</td>\n",
       "      <td>0.903333</td>\n",
       "      <td>0.344000</td>\n",
       "      <td>35.934502</td>\n",
       "      <td>161.83333</td>\n",
       "      <td>6.000000</td>\n",
       "      <td>6</td>\n",
       "      <td>24</td>\n",
       "      <td>Fibroblasts</td>\n",
       "    </tr>\n",
       "    <tr>\n",
       "      <th>1</th>\n",
       "      <td>MB0000_1_527</td>\n",
       "      <td>MB-0000</td>\n",
       "      <td>1</td>\n",
       "      <td>527</td>\n",
       "      <td>2</td>\n",
       "      <td>0.889243</td>\n",
       "      <td>0.166252</td>\n",
       "      <td>0.166487</td>\n",
       "      <td>0.109148</td>\n",
       "      <td>0.071443</td>\n",
       "      <td>...</td>\n",
       "      <td>28.806173</td>\n",
       "      <td>52.767433</td>\n",
       "      <td>0.781896</td>\n",
       "      <td>0.111391</td>\n",
       "      <td>16.294783</td>\n",
       "      <td>177.30435</td>\n",
       "      <td>15.539130</td>\n",
       "      <td>6</td>\n",
       "      <td>24</td>\n",
       "      <td>Fibroblasts</td>\n",
       "    </tr>\n",
       "    <tr>\n",
       "      <th>2</th>\n",
       "      <td>MB0000_1_527</td>\n",
       "      <td>MB-0000</td>\n",
       "      <td>1</td>\n",
       "      <td>527</td>\n",
       "      <td>3</td>\n",
       "      <td>0.861557</td>\n",
       "      <td>0.150873</td>\n",
       "      <td>0.099861</td>\n",
       "      <td>0.064506</td>\n",
       "      <td>0.025316</td>\n",
       "      <td>...</td>\n",
       "      <td>17.687202</td>\n",
       "      <td>29.113506</td>\n",
       "      <td>0.872304</td>\n",
       "      <td>0.542215</td>\n",
       "      <td>16.348177</td>\n",
       "      <td>293.51898</td>\n",
       "      <td>19.886076</td>\n",
       "      <td>6</td>\n",
       "      <td>24</td>\n",
       "      <td>Fibroblasts</td>\n",
       "    </tr>\n",
       "    <tr>\n",
       "      <th>3</th>\n",
       "      <td>MB0000_1_527</td>\n",
       "      <td>MB-0000</td>\n",
       "      <td>1</td>\n",
       "      <td>527</td>\n",
       "      <td>4</td>\n",
       "      <td>1.746239</td>\n",
       "      <td>0.069159</td>\n",
       "      <td>0.043478</td>\n",
       "      <td>0.021739</td>\n",
       "      <td>0.623623</td>\n",
       "      <td>...</td>\n",
       "      <td>29.021986</td>\n",
       "      <td>54.447716</td>\n",
       "      <td>0.664442</td>\n",
       "      <td>0.172638</td>\n",
       "      <td>9.053551</td>\n",
       "      <td>165.04347</td>\n",
       "      <td>22.210144</td>\n",
       "      <td>4</td>\n",
       "      <td>20</td>\n",
       "      <td>Fibroblasts CD68+</td>\n",
       "    </tr>\n",
       "    <tr>\n",
       "      <th>4</th>\n",
       "      <td>MB0000_1_527</td>\n",
       "      <td>MB-0000</td>\n",
       "      <td>1</td>\n",
       "      <td>527</td>\n",
       "      <td>5</td>\n",
       "      <td>0.979274</td>\n",
       "      <td>0.144429</td>\n",
       "      <td>0.125500</td>\n",
       "      <td>0.067714</td>\n",
       "      <td>0.028940</td>\n",
       "      <td>...</td>\n",
       "      <td>21.988190</td>\n",
       "      <td>43.471428</td>\n",
       "      <td>0.446310</td>\n",
       "      <td>0.057833</td>\n",
       "      <td>9.991821</td>\n",
       "      <td>108.88095</td>\n",
       "      <td>28.523809</td>\n",
       "      <td>6</td>\n",
       "      <td>24</td>\n",
       "      <td>Fibroblasts</td>\n",
       "    </tr>\n",
       "  </tbody>\n",
       "</table>\n",
       "<p>5 rows × 49 columns</p>\n",
       "</div>"
      ],
      "text/plain": [
       "        file_id metabricId  core_id  ImageNumber  ObjectNumber  HH3_total  \\\n",
       "0  MB0000_1_527    MB-0000        1          527             1   1.058000   \n",
       "1  MB0000_1_527    MB-0000        1          527             2   0.889243   \n",
       "2  MB0000_1_527    MB-0000        1          527             3   0.861557   \n",
       "3  MB0000_1_527    MB-0000        1          527             4   1.746239   \n",
       "4  MB0000_1_527    MB-0000        1          527             5   0.979274   \n",
       "\n",
       "       CK19    CK8_18     Twist      CD68  ...       DNA1       DNA2  \\\n",
       "0  0.000000  0.000000  0.000000  0.618000  ...  17.330166  17.718166   \n",
       "1  0.166252  0.166487  0.109148  0.071443  ...  28.806173  52.767433   \n",
       "2  0.150873  0.099861  0.064506  0.025316  ...  17.687202  29.113506   \n",
       "3  0.069159  0.043478  0.021739  0.623623  ...  29.021986  54.447716   \n",
       "4  0.144429  0.125500  0.067714  0.028940  ...  21.988190  43.471428   \n",
       "\n",
       "   H3K27me3       CK5  Fibronectin  Location_Center_X  Location_Center_Y  \\\n",
       "0  0.903333  0.344000    35.934502          161.83333           6.000000   \n",
       "1  0.781896  0.111391    16.294783          177.30435          15.539130   \n",
       "2  0.872304  0.542215    16.348177          293.51898          19.886076   \n",
       "3  0.664442  0.172638     9.053551          165.04347          22.210144   \n",
       "4  0.446310  0.057833     9.991821          108.88095          28.523809   \n",
       "\n",
       "   SOM_nodes  pg_cluster        description  \n",
       "0          6          24        Fibroblasts  \n",
       "1          6          24        Fibroblasts  \n",
       "2          6          24        Fibroblasts  \n",
       "3          4          20  Fibroblasts CD68+  \n",
       "4          6          24        Fibroblasts  \n",
       "\n",
       "[5 rows x 49 columns]"
      ]
     },
     "execution_count": 3,
     "metadata": {},
     "output_type": "execute_result"
    }
   ],
   "source": [
    "data.head()"
   ]
  },
  {
   "cell_type": "code",
   "execution_count": 18,
   "metadata": {},
   "outputs": [],
   "source": [
    "data_clinical = pd.read_table(\"../../../nature_cancer_dataset/data_clinical.txt\").drop([0, 1, 2, 3, 4])\n",
    "TNBC_clinical = data_clinical[(data_clinical['PR Status'] == '-') & (data_clinical['ER Status'] == '-') & (data_clinical['HER2 Status'] == '-')]"
   ]
  },
  {
   "cell_type": "code",
   "execution_count": 19,
   "metadata": {},
   "outputs": [],
   "source": [
    "tnbc_identifier = TNBC_clinical['#Patient Identifier']\n",
    "TNBC_data = data[data.metabricId.isin(tnbc_identifier)]"
   ]
  },
  {
   "cell_type": "code",
   "execution_count": 20,
   "metadata": {},
   "outputs": [
    {
     "data": {
      "text/plain": [
       "array(['Fibroblasts', 'Myofibroblasts', 'Endothelial', 'T cells',\n",
       "       'Fibroblasts CD68+', 'B cells', 'HER2+', 'Vascular SMA+',\n",
       "       'HR+ CK7-', 'Myoepithelial', 'HR- CKlow CK5+', 'HR- CK7-',\n",
       "       'HR- CK7+', 'Hypoxia', 'HR- Ki67+', 'Basal CKlow',\n",
       "       'Macrophages Vim+ CD45low', 'HRlow CKlow', 'HR+ CK7- Slug+',\n",
       "       'HR+ CK7- Ki67+', 'Macrophages Vim+ Slug+',\n",
       "       'Macrophages Vim+ Slug-'], dtype=object)"
      ]
     },
     "execution_count": 20,
     "metadata": {},
     "output_type": "execute_result"
    }
   ],
   "source": [
    "TNBC_data['description'].unique()"
   ]
  },
  {
   "cell_type": "code",
   "execution_count": 21,
   "metadata": {},
   "outputs": [
    {
     "name": "stderr",
     "output_type": "stream",
     "text": [
      "/home/fabio.lipreri/.local/lib/python3.6/site-packages/ipykernel_launcher.py:26: SettingWithCopyWarning: \n",
      "A value is trying to be set on a copy of a slice from a DataFrame.\n",
      "Try using .loc[row_indexer,col_indexer] = value instead\n",
      "\n",
      "See the caveats in the documentation: https://pandas.pydata.org/pandas-docs/stable/user_guide/indexing.html#returning-a-view-versus-a-copy\n"
     ]
    }
   ],
   "source": [
    "def cell_type_converter(t):\n",
    "    d = {'Fibroblasts': 'Fibroblasts', \n",
    "         'Myofibroblasts': 'Fibroblasts', \n",
    "         'Endothelial': 'Endothelial', \n",
    "         'T cells': 'T cells',\n",
    "         'Fibroblasts CD68+': 'Fibroblasts', \n",
    "         'B cells': 'B cells', \n",
    "         'HER2+': 'Cancer', \n",
    "         'Vascular SMA+': 'Vascular SMA+',\n",
    "         'HR+ CK7-': 'Cancer',\n",
    "         'Myoepithelial':'Myoepithelial',\n",
    "         'HR- CKlow CK5+': 'Cancer',\n",
    "         'HR- CK7-': 'Cancer',\n",
    "         'HR- CK7+': 'Cancer',\n",
    "         'Hypoxia': 'Cancer',\n",
    "         'HR- Ki67+': 'Cancer',\n",
    "         'Basal CKlow': 'Cancer',\n",
    "         'Macrophages Vim+ CD45low': 'Macrophages',\n",
    "         'HRlow CKlow': 'Cancer', \n",
    "         'HR+ CK7- Slug+': 'Cancer',\n",
    "         'HR+ CK7- Ki67+': 'Cancer', \n",
    "         'Macrophages Vim+ Slug+': 'Macrophages',\n",
    "         'Macrophages Vim+ Slug-': 'Macrophages'}\n",
    "    return d[t]\n",
    "\n",
    "TNBC_data['description'] = TNBC_data['description'].apply(cell_type_converter)"
   ]
  },
  {
   "cell_type": "code",
   "execution_count": 25,
   "metadata": {},
   "outputs": [
    {
     "data": {
      "text/plain": [
       "array(['Fibroblasts', 'Endothelial', 'T cells', 'B cells', 'Cancer',\n",
       "       'Vascular SMA+', 'Myoepithelial', 'Macrophages'], dtype=object)"
      ]
     },
     "execution_count": 25,
     "metadata": {},
     "output_type": "execute_result"
    }
   ],
   "source": [
    "TNBC_data['description'].unique()"
   ]
  },
  {
   "cell_type": "code",
   "execution_count": 23,
   "metadata": {},
   "outputs": [
    {
     "name": "stderr",
     "output_type": "stream",
     "text": [
      "/home/fabio.lipreri/.local/lib/python3.6/site-packages/ipykernel_launcher.py:5: SettingWithCopyWarning: \n",
      "A value is trying to be set on a copy of a slice from a DataFrame.\n",
      "Try using .loc[row_indexer,col_indexer] = value instead\n",
      "\n",
      "See the caveats in the documentation: https://pandas.pydata.org/pandas-docs/stable/user_guide/indexing.html#returning-a-view-versus-a-copy\n",
      "  \"\"\"\n",
      "/home/fabio.lipreri/.local/lib/python3.6/site-packages/ipykernel_launcher.py:6: SettingWithCopyWarning: \n",
      "A value is trying to be set on a copy of a slice from a DataFrame.\n",
      "Try using .loc[row_indexer,col_indexer] = value instead\n",
      "\n",
      "See the caveats in the documentation: https://pandas.pydata.org/pandas-docs/stable/user_guide/indexing.html#returning-a-view-versus-a-copy\n",
      "  \n"
     ]
    }
   ],
   "source": [
    "for i, x in TNBC_data.groupby('ImageNumber'):\n",
    "    p = os.path.join(\"../../../output/tnbc_nature_cancer_dataset/patient{}_cell_positions.csv\".format(i))\n",
    "    x = x[['Location_Center_X', 'Location_Center_Y', 'description', 'ObjectNumber']]\n",
    "    x.columns = ['x', 'y', 'cell_type', 'label']\n",
    "    x['size_x'] = int(x['x'].max())\n",
    "    x['size_y'] = int(x['y'].max())\n",
    "    x.to_csv(p, header=True, index=False, sep=',')"
   ]
  },
  {
   "cell_type": "code",
   "execution_count": 14,
   "metadata": {},
   "outputs": [],
   "source": [
    "image_id = data['ImageNumber'].unique()\n",
    "for i in image_id:\n",
    "    cells = data[data['ImageNumber']]"
   ]
  }
 ],
 "metadata": {
  "kernelspec": {
   "display_name": "Python 3",
   "language": "python",
   "name": "python3"
  },
  "language_info": {
   "codemirror_mode": {
    "name": "ipython",
    "version": 3
   },
   "file_extension": ".py",
   "mimetype": "text/x-python",
   "name": "python",
   "nbconvert_exporter": "python",
   "pygments_lexer": "ipython3",
   "version": "3.6.8"
  }
 },
 "nbformat": 4,
 "nbformat_minor": 4
}
