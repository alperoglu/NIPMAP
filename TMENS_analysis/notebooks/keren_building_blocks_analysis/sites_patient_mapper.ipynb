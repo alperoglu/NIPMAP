{
 "cells": [
  {
   "cell_type": "code",
   "execution_count": 1,
   "metadata": {},
   "outputs": [
    {
     "data": {
      "text/plain": [
       "'/scratch/anissa.el/data_analysis/notebooks/karen_building_blocks_analysis'"
      ]
     },
     "execution_count": 1,
     "metadata": {},
     "output_type": "execute_result"
    }
   ],
   "source": [
    "%load_ext autoreload\n",
    "%autoreload 2\n",
    "import os\n",
    "import sys\n",
    "module_path = os.path.abspath(os.path.join('../..'))\n",
    "if module_path not in sys.path:\n",
    "    sys.path.append(module_path)\n",
    "os.getcwd()"
   ]
  },
  {
   "cell_type": "code",
   "execution_count": 2,
   "metadata": {},
   "outputs": [],
   "source": [
    "import pandas as pd\n",
    "import numpy as np\n",
    "from sklearn.decomposition import PCA\n",
    "import matplotlib.pyplot as plt\n",
    "from scipy.optimize import minimize,LinearConstraint, SR1\n",
    "from qpsolvers import solve_qp\n",
    "from src.utils.archetypes import ArchetypalAnalysis\n",
    "from src.CellAbundance import CellAbundance, generate_abundance_matrix, join_abundance_matrices\n",
    "from src.utils.visualization import plot_scatter_pca, plot_cumulative_explained_variance, plot_PCAs, plot_CVEs"
   ]
  },
  {
   "cell_type": "code",
   "execution_count": 3,
   "metadata": {},
   "outputs": [],
   "source": [
    "##########################################################\n",
    "#      CONTROL PANEL       #  set your parameters here   #\n",
    "##########################################################\n",
    "patient_ids = [1, 2, 3, 4, 5, 6, 7, 8, 9, 10, 11, 12, 13, 14, 15, 16, 17, 18, 19, 20, 21, 22, 23, 24, 25, \n",
    "               26, 27, 28, 29, 31, 32, 33, 34, 35, 36, 37, 38, 39, 40, 41]\n",
    "N_SITE = 100\n",
    "RADIUS = 25\n",
    "# RADIUS = 25\n",
    "#METHOD = \"abs\"#'gaussian' \n",
    "METHOD = 'gaussian'\n",
    "CELL_TYPES = ['CD8-T', 'Other immune', 'DC / Mono', 'CD3-T', 'B', 'NK', 'Keratin-positive tumor', 'Tumor', \n",
    "              'CD4-T', 'Mesenchymal-like', 'Macrophages', 'Endothelial', 'Tregs', 'Unidentified', 'DC', 'Mono / Neu', \n",
    "              'Neutrophils']\n",
    "ROOT_DATA_PATH = \"../../data/cell_positions_data\"#\"../../../../fabio/output/cell_positions_data\"\n",
    "ROOT_OUTPUT_CSV_PATH = \"../../output\"\n",
    "RANDOM_SEED = 1022"
   ]
  },
  {
   "cell_type": "code",
   "execution_count": 4,
   "metadata": {},
   "outputs": [],
   "source": [
    "# Generating the sites and cell abundance!\n",
    "abundance_matrix_center_cells = generate_abundance_matrix(CELL_TYPES, patient_ids, N_SITE, RADIUS, METHOD,center_sites_cells=True, root=ROOT_DATA_PATH, random_seed=RANDOM_SEED)"
   ]
  },
  {
   "cell_type": "code",
   "execution_count": 5,
   "metadata": {},
   "outputs": [],
   "source": [
    "# Generating the sites and cell abundance!\n",
    "abundance_matrix = generate_abundance_matrix(CELL_TYPES, patient_ids, N_SITE, RADIUS, METHOD,center_sites_cells=False, root=ROOT_DATA_PATH, random_seed=RANDOM_SEED)"
   ]
  },
  {
   "cell_type": "code",
   "execution_count": 19,
   "metadata": {},
   "outputs": [
    {
     "data": {
      "text/html": [
       "<div>\n",
       "<style scoped>\n",
       "    .dataframe tbody tr th:only-of-type {\n",
       "        vertical-align: middle;\n",
       "    }\n",
       "\n",
       "    .dataframe tbody tr th {\n",
       "        vertical-align: top;\n",
       "    }\n",
       "\n",
       "    .dataframe thead th {\n",
       "        text-align: right;\n",
       "    }\n",
       "</style>\n",
       "<table border=\"1\" class=\"dataframe\">\n",
       "  <thead>\n",
       "    <tr style=\"text-align: right;\">\n",
       "      <th></th>\n",
       "      <th>cell_id</th>\n",
       "      <th>cell_type</th>\n",
       "      <th>patient_id</th>\n",
       "    </tr>\n",
       "  </thead>\n",
       "  <tbody>\n",
       "    <tr>\n",
       "      <th>0</th>\n",
       "      <td>2</td>\n",
       "      <td>Keratin-positive tumor</td>\n",
       "      <td>1</td>\n",
       "    </tr>\n",
       "    <tr>\n",
       "      <th>1</th>\n",
       "      <td>3</td>\n",
       "      <td>CD3-T</td>\n",
       "      <td>1</td>\n",
       "    </tr>\n",
       "    <tr>\n",
       "      <th>2</th>\n",
       "      <td>4</td>\n",
       "      <td>Keratin-positive tumor</td>\n",
       "      <td>1</td>\n",
       "    </tr>\n",
       "    <tr>\n",
       "      <th>3</th>\n",
       "      <td>5</td>\n",
       "      <td>Keratin-positive tumor</td>\n",
       "      <td>1</td>\n",
       "    </tr>\n",
       "    <tr>\n",
       "      <th>4</th>\n",
       "      <td>6</td>\n",
       "      <td>B</td>\n",
       "      <td>1</td>\n",
       "    </tr>\n",
       "    <tr>\n",
       "      <th>...</th>\n",
       "      <td>...</td>\n",
       "      <td>...</td>\n",
       "      <td>...</td>\n",
       "    </tr>\n",
       "    <tr>\n",
       "      <th>197673</th>\n",
       "      <td>5093</td>\n",
       "      <td>Keratin-positive tumor</td>\n",
       "      <td>41</td>\n",
       "    </tr>\n",
       "    <tr>\n",
       "      <th>197674</th>\n",
       "      <td>5094</td>\n",
       "      <td>Tumor</td>\n",
       "      <td>41</td>\n",
       "    </tr>\n",
       "    <tr>\n",
       "      <th>197675</th>\n",
       "      <td>5095</td>\n",
       "      <td>Macrophages</td>\n",
       "      <td>41</td>\n",
       "    </tr>\n",
       "    <tr>\n",
       "      <th>197676</th>\n",
       "      <td>5096</td>\n",
       "      <td>Other immune</td>\n",
       "      <td>41</td>\n",
       "    </tr>\n",
       "    <tr>\n",
       "      <th>197677</th>\n",
       "      <td>5097</td>\n",
       "      <td>B</td>\n",
       "      <td>41</td>\n",
       "    </tr>\n",
       "  </tbody>\n",
       "</table>\n",
       "<p>197678 rows × 3 columns</p>\n",
       "</div>"
      ],
      "text/plain": [
       "        cell_id               cell_type  patient_id\n",
       "0             2  Keratin-positive tumor           1\n",
       "1             3                   CD3-T           1\n",
       "2             4  Keratin-positive tumor           1\n",
       "3             5  Keratin-positive tumor           1\n",
       "4             6                       B           1\n",
       "...         ...                     ...         ...\n",
       "197673     5093  Keratin-positive tumor          41\n",
       "197674     5094                   Tumor          41\n",
       "197675     5095             Macrophages          41\n",
       "197676     5096            Other immune          41\n",
       "197677     5097                       B          41\n",
       "\n",
       "[197678 rows x 3 columns]"
      ]
     },
     "execution_count": 19,
     "metadata": {},
     "output_type": "execute_result"
    }
   ],
   "source": [
    "# generating the dataset with all the sites from the patients and the cells belonging to each site centered by cell (point one)\n",
    "\n",
    "df = pd.DataFrame()\n",
    "for ca in abundance_matrix_center_cells:\n",
    "    df_ca = ca.get_site_cell_id_df()#get_site_cell_map_dataframe()\n",
    "    df_ca['patient_id'] = int(ca.patient_id)\n",
    "    df = df.append(df_ca)\n",
    "df = df.reset_index(drop = True)\n",
    "'''\n",
    "df = [] #pd.DataFrame()\n",
    "for ca in abundance_matrix_center_cells:\n",
    "    df_ca = ca.get_site_cell_map_dataframe()\n",
    "    df_ca['patient_id'] = int(ca.patient_id)\n",
    "    df.append(df_ca)\n",
    "df = pd.concat(df)\n",
    "#df = df.reset_index(drop = True)\n",
    "'''\n",
    "df\n",
    "#df.to_csv(\"/srv/mfs/hausserlab/anissa.el/ImmuneStates/data_BB/site_cells_gaussian.csv\", index=False, header=True)#df.to_csv(\"{}/site_cells.csv\".format(ROOT_OUTPUT_CSV_PATH), index=False, header=True)"
   ]
  },
  {
   "cell_type": "code",
   "execution_count": 20,
   "metadata": {},
   "outputs": [],
   "source": [
    "## Export dataframe in csv format\n",
    "df\n",
    "df.to_csv(\"/scratch/anissa.el/ImmuneStates/data_BB/site_centered_cells.csv\", index=False, header=True)#df.to_csv(\"{}/site_cells.csv\".format(ROOT_OUTPUT_CSV_PATH), index=False, header=True)"
   ]
  },
  {
   "cell_type": "code",
   "execution_count": 6,
   "metadata": {},
   "outputs": [],
   "source": [
    "#Abundance Matrix \n",
    "df_2 = pd.DataFrame() \n",
    "for ca in abundance_matrix:\n",
    "    abundance_df = pd.DataFrame(ca.abundance_matrix,columns = CELL_TYPES)\n",
    "    abundance_df['site_id'] = np.arange(len(abundance_df))\n",
    "    abundance_df['patient_id'] = ca.patient_id\n",
    "    df_2 = df_2.append(abundance_df)\n",
    "    \n",
    "df_2 = df_2.reset_index()\n"
   ]
  },
  {
   "cell_type": "code",
   "execution_count": 7,
   "metadata": {},
   "outputs": [
    {
     "name": "stdout",
     "output_type": "stream",
     "text": [
      "(4000, 20)\n"
     ]
    }
   ],
   "source": [
    "#df_2\n",
    "print(df_2.shape)\n",
    "#print(df_2.iloc[:,1:17])\n",
    "#np.mean(np.mean(np.array(df_2.iloc[:,1:17]),axis=1),axis=0)\n",
    "#df_2.to_csv(\"/srv/mfs/hausserlab/anissa.el/ImmuneStates/data_BB/abundance_matrix_gaussian.csv\", index=False, header=True)"
   ]
  },
  {
   "cell_type": "code",
   "execution_count": 7,
   "metadata": {},
   "outputs": [
    {
     "name": "stdout",
     "output_type": "stream",
     "text": [
      "Warning: A redundant archetype was recognised. The redundancy issue was resolved after 1 try(s) and a new candidate is replaced.\n"
     ]
    },
    {
     "data": {
      "text/plain": [
       "array([[ 8.36960480e-04, -2.05139738e-04,  5.13431956e-04],\n",
       "       [ 6.22451888e-04,  1.79993309e-04,  4.66145708e-04],\n",
       "       [-5.45279156e-05, -1.05861330e-04,  5.32484013e-04],\n",
       "       ...,\n",
       "       [-1.11045895e-03, -8.26919234e-04,  1.67422287e-04],\n",
       "       [-3.43905627e-03, -1.31344254e-03,  8.50245620e-05],\n",
       "       [-2.79474995e-03, -9.07546280e-04, -2.04928635e-04]])"
      ]
     },
     "execution_count": 7,
     "metadata": {},
     "output_type": "execute_result"
    }
   ],
   "source": [
    "# Archetypal Analysis\n",
    "sites, patients_ids,sites_ids,gradients = join_abundance_matrices(abundance_matrix)\n",
    "pca = PCA()\n",
    "pc = pca.fit_transform(sites)\n",
    "pca3d = pd.DataFrame(pc[:, :3], columns = ['PC1', 'PC2', 'PC3'])\n",
    "pca3d['site_id'] = df_2['site_id']\n",
    "pca3d['patient_id'] = df_2['patient_id']\n",
    "#pca3d.to_csv(\"/srv/mfs/hausserlab/anissa.el/ImmuneStates/data_BB/sites_pca_matrix_gaussian.csv\", index=False, header=True)\n",
    "AA_3D = ArchetypalAnalysis(n_archetypes = 4, \n",
    "                        tolerance = 0.001, \n",
    "                        max_iter = 200, \n",
    "                        random_state = 0, \n",
    "                        C = 0.0001, \n",
    "                        initialize = 'random',\n",
    "                        redundancy_try = 30)\n",
    "AA_3D.fit_transform(pc[:, :3])"
   ]
  },
  {
   "cell_type": "code",
   "execution_count": null,
   "metadata": {},
   "outputs": [],
   "source": []
  },
  {
   "cell_type": "code",
   "execution_count": 30,
   "metadata": {},
   "outputs": [],
   "source": [
    "#open it\n",
    "df_archetypes = pd.DataFrame(AA_3D.alfa.T, columns=['archetype1', 'archetype2', 'archetype3', 'archetype4'])\n",
    "df_archetypes['site_id'] = df_2['site_id']\n",
    "df_archetypes['patient_id'] = df_2['patient_id']\n"
   ]
  },
  {
   "cell_type": "markdown",
   "metadata": {},
   "source": [
    "### Getting TMENs proportions of sites centered on cells"
   ]
  },
  {
   "cell_type": "code",
   "execution_count": 14,
   "metadata": {
    "scrolled": true
   },
   "outputs": [
    {
     "name": "stdout",
     "output_type": "stream",
     "text": [
      "197678\n",
      "(4, 17)\n",
      "[1. 1. 1. 1. 1. 1. 1. 1. 1.]\n"
     ]
    }
   ],
   "source": [
    "### Infer alfas of sites centered on cells (sites) from TMENs found in randomly generated sites (sites2)\n",
    "n_comp = 3\n",
    "sites2, patients_ids2,sites_ids2,gradients2 = join_abundance_matrices(abundance_matrix_center_cells)\n",
    "tmens = np.dot(AA_3D.archetypes.T, pca.components_[:n_comp,:])+np.mean(sites, axis=0)\n",
    "#print(tmens.shape)\n",
    "#print(sites2.T.shape)\n",
    "# C (n x m, n= nb of cell types, m= nb of sites): cellular abundance of sites centered by cells\n",
    "# B (n x t, t = nb of TMENs): cell abundance of TMENs found in random sites\n",
    "# alfa (t x m): Prop of TMENs for each sites centered by cells\n",
    "\n",
    "## FIXME: minimizing function to get alfas that respect constraints of proportions\n",
    "def f(x,*args):\n",
    "    site, tmens = args\n",
    "    x = np.expand_dims(x, 1)\n",
    "    #print(x.T.shape)\n",
    "    return np.linalg.norm(site - np.dot(x.T,tmens))\n",
    "     \n",
    "#m: number of sites\n",
    "#n: number of cell types\n",
    "#N=4: number of TMENs\n",
    "print(sites2.shape[0])\n",
    "print(tmens.shape)\n",
    "x0 = np.array([[0.5,0.05,0.4,0.05]]) #np.zeros((4,sites2.shape[0]))\n",
    "\n",
    "\n",
    "# Constraints of proportions: non-negative values, sum equal to 1\n",
    "constr = ({'type':'eq', 'fun': lambda x: sum(x) - 1,'tol':0.001},\n",
    "         {'type': 'ineq', 'fun': lambda x: x,'tol':0.001},\n",
    "         {'type': 'ineq','fun': lambda x: 1-x,'tol':0.001})#lambda x: np.array([x[:,:],x[:,0] +  x[:,1] + x[:,2]+ x[:,3]- 1 ])\n",
    "\n",
    "\n",
    "NB_TMENS = tmens.shape[0]\n",
    "sites_alfas = np.zeros(shape = (sites2.shape[0],NB_TMENS))\n",
    "for i in np.arange(sites2.shape[0]):\n",
    "    site = sites2[i,:].T\n",
    "    #print(sites_ids2[i])\n",
    "    P = np.dot(tmens, tmens.T)\n",
    "    q = -np.dot(tmens,site)\n",
    "    A = np.ones(NB_TMENS)\n",
    "    b = 1\n",
    "    G = np.diag(-np.ones(NB_TMENS))\n",
    "    h = np.zeros(NB_TMENS)\n",
    "    #print(A)\n",
    "    res = solve_qp(P, q, G, h, A, b)\n",
    "    sites_alfas[i] = res\n",
    "    #print(\"QP solution: x = {}\".format(res))\n",
    "print(np.sum(sites_alfas[0:9,:],axis = 1))"
   ]
  },
  {
   "cell_type": "code",
   "execution_count": 16,
   "metadata": {},
   "outputs": [],
   "source": [
    "sites_archs = pd.DataFrame(sites_alfas, columns = [\"arch1\",\"arch2\",\"arch3\",\"arch4\"])\n",
    "sites_archs['patient_id'] = patients_ids2\n",
    "sites_archs[\"site_id\"] = sites_ids2[:,0]\n",
    "sites_archs[\"cell_type_site\"] = sites_ids2[:,1]\n",
    "#print(sites_archs)\n",
    "sites_archs.to_csv(\"/scratch/anissa.el/ImmuneStates/data_BB/archetypes_sites_centered_cells_gaussian.csv\",index=False,header=True)"
   ]
  },
  {
   "cell_type": "code",
   "execution_count": 22,
   "metadata": {},
   "outputs": [],
   "source": [
    "#df_archetypes2.to_csv(\"/scratch/anissa.el/ImmuneStates/data_BB/archetypes_sites_centered_cells_gaussian.csv\", index=False, header=True)"
   ]
  },
  {
   "cell_type": "code",
   "execution_count": 32,
   "metadata": {},
   "outputs": [],
   "source": [
    "df_archetypes\n",
    "#df_archetypes.to_csv(\"/srv/mfs/hausserlab/anissa.el/ImmuneStates/data_BB/archetypes_matrix_gaussian.csv\", index=False, header=True)"
   ]
  },
  {
   "cell_type": "code",
   "execution_count": 23,
   "metadata": {},
   "outputs": [
    {
     "data": {
      "text/html": [
       "<div>\n",
       "<style scoped>\n",
       "    .dataframe tbody tr th:only-of-type {\n",
       "        vertical-align: middle;\n",
       "    }\n",
       "\n",
       "    .dataframe tbody tr th {\n",
       "        vertical-align: top;\n",
       "    }\n",
       "\n",
       "    .dataframe thead th {\n",
       "        text-align: right;\n",
       "    }\n",
       "</style>\n",
       "<table border=\"1\" class=\"dataframe\">\n",
       "  <thead>\n",
       "    <tr style=\"text-align: right;\">\n",
       "      <th></th>\n",
       "      <th>CD8-T</th>\n",
       "      <th>Other immune</th>\n",
       "      <th>DC / Mono</th>\n",
       "      <th>CD3-T</th>\n",
       "      <th>B</th>\n",
       "      <th>NK</th>\n",
       "      <th>Keratin-positive tumor</th>\n",
       "      <th>Tumor</th>\n",
       "      <th>CD4-T</th>\n",
       "      <th>Mesenchymal-like</th>\n",
       "      <th>Macrophages</th>\n",
       "      <th>Endothelial</th>\n",
       "      <th>Tregs</th>\n",
       "      <th>Unidentified</th>\n",
       "      <th>DC</th>\n",
       "      <th>Mono / Neu</th>\n",
       "      <th>Neutrophils</th>\n",
       "      <th>archetype</th>\n",
       "    </tr>\n",
       "  </thead>\n",
       "  <tbody>\n",
       "    <tr>\n",
       "      <th>0</th>\n",
       "      <td>-0.001750</td>\n",
       "      <td>-0.000236</td>\n",
       "      <td>0.000082</td>\n",
       "      <td>-0.000005</td>\n",
       "      <td>0.013639</td>\n",
       "      <td>-0.000003</td>\n",
       "      <td>-0.000369</td>\n",
       "      <td>0.000106</td>\n",
       "      <td>0.005125</td>\n",
       "      <td>0.000288</td>\n",
       "      <td>-0.002278</td>\n",
       "      <td>0.000020</td>\n",
       "      <td>-0.000121</td>\n",
       "      <td>0.000022</td>\n",
       "      <td>0.000176</td>\n",
       "      <td>-0.000253</td>\n",
       "      <td>-0.000047</td>\n",
       "      <td>ARCH1</td>\n",
       "    </tr>\n",
       "    <tr>\n",
       "      <th>1</th>\n",
       "      <td>0.006750</td>\n",
       "      <td>0.000587</td>\n",
       "      <td>0.001184</td>\n",
       "      <td>0.000768</td>\n",
       "      <td>-0.001002</td>\n",
       "      <td>0.000393</td>\n",
       "      <td>0.000359</td>\n",
       "      <td>-0.000257</td>\n",
       "      <td>0.006473</td>\n",
       "      <td>-0.000456</td>\n",
       "      <td>0.003933</td>\n",
       "      <td>0.000154</td>\n",
       "      <td>0.000437</td>\n",
       "      <td>-0.000095</td>\n",
       "      <td>0.000174</td>\n",
       "      <td>0.000242</td>\n",
       "      <td>0.000211</td>\n",
       "      <td>ARCH2</td>\n",
       "    </tr>\n",
       "    <tr>\n",
       "      <th>2</th>\n",
       "      <td>0.000017</td>\n",
       "      <td>-0.000375</td>\n",
       "      <td>-0.000140</td>\n",
       "      <td>-0.000084</td>\n",
       "      <td>-0.000092</td>\n",
       "      <td>-0.000011</td>\n",
       "      <td>0.010285</td>\n",
       "      <td>0.000116</td>\n",
       "      <td>-0.000131</td>\n",
       "      <td>-0.000210</td>\n",
       "      <td>-0.000242</td>\n",
       "      <td>-0.000092</td>\n",
       "      <td>0.000044</td>\n",
       "      <td>-0.000040</td>\n",
       "      <td>-0.000041</td>\n",
       "      <td>0.000007</td>\n",
       "      <td>-0.000015</td>\n",
       "      <td>ARCH3</td>\n",
       "    </tr>\n",
       "    <tr>\n",
       "      <th>3</th>\n",
       "      <td>0.000130</td>\n",
       "      <td>0.000605</td>\n",
       "      <td>0.000248</td>\n",
       "      <td>0.000184</td>\n",
       "      <td>0.000030</td>\n",
       "      <td>-0.000003</td>\n",
       "      <td>-0.000131</td>\n",
       "      <td>0.000158</td>\n",
       "      <td>-0.000272</td>\n",
       "      <td>0.000718</td>\n",
       "      <td>0.001126</td>\n",
       "      <td>0.000180</td>\n",
       "      <td>0.000007</td>\n",
       "      <td>0.000141</td>\n",
       "      <td>0.000053</td>\n",
       "      <td>0.000183</td>\n",
       "      <td>0.000189</td>\n",
       "      <td>ARCH4</td>\n",
       "    </tr>\n",
       "  </tbody>\n",
       "</table>\n",
       "</div>"
      ],
      "text/plain": [
       "      CD8-T  Other immune  DC / Mono     CD3-T         B        NK  \\\n",
       "0 -0.001750     -0.000236   0.000082 -0.000005  0.013639 -0.000003   \n",
       "1  0.006750      0.000587   0.001184  0.000768 -0.001002  0.000393   \n",
       "2  0.000017     -0.000375  -0.000140 -0.000084 -0.000092 -0.000011   \n",
       "3  0.000130      0.000605   0.000248  0.000184  0.000030 -0.000003   \n",
       "\n",
       "   Keratin-positive tumor     Tumor     CD4-T  Mesenchymal-like  Macrophages  \\\n",
       "0               -0.000369  0.000106  0.005125          0.000288    -0.002278   \n",
       "1                0.000359 -0.000257  0.006473         -0.000456     0.003933   \n",
       "2                0.010285  0.000116 -0.000131         -0.000210    -0.000242   \n",
       "3               -0.000131  0.000158 -0.000272          0.000718     0.001126   \n",
       "\n",
       "   Endothelial     Tregs  Unidentified        DC  Mono / Neu  Neutrophils  \\\n",
       "0     0.000020 -0.000121      0.000022  0.000176   -0.000253    -0.000047   \n",
       "1     0.000154  0.000437     -0.000095  0.000174    0.000242     0.000211   \n",
       "2    -0.000092  0.000044     -0.000040 -0.000041    0.000007    -0.000015   \n",
       "3     0.000180  0.000007      0.000141  0.000053    0.000183     0.000189   \n",
       "\n",
       "  archetype  \n",
       "0     ARCH1  \n",
       "1     ARCH2  \n",
       "2     ARCH3  \n",
       "3     ARCH4  "
      ]
     },
     "execution_count": 23,
     "metadata": {},
     "output_type": "execute_result"
    }
   ],
   "source": [
    "#FIXME : re-compute the new cell densities from each archetype with GAUSSIAN counting ==> consistency !!\n",
    "\n",
    "n_comp = 3\n",
    "res = np.dot(AA_3D.archetypes.T, pca.components_[:n_comp,:])+np.mean(sites, axis=0)\n",
    "archetypes_cell_space = pd.DataFrame(res,  columns = CELL_TYPES)\n",
    "archetypes_cell_space[\"archetype\"] = ['ARCH1', 'ARCH2', 'ARCH3', 'ARCH4']\n",
    "archetypes_cell_space"
   ]
  },
  {
   "cell_type": "code",
   "execution_count": 25,
   "metadata": {},
   "outputs": [],
   "source": [
    "#TODO: set column and row names when converting dataframe to csv file!\n",
    "\n",
    "archetypes_cell_space.to_csv(\"/scratch/anissa.el/ImmuneStates/data_BB/archetypes_building_blocks_17cells_space_gaussian.csv\",index=False,header=True)\n"
   ]
  }
 ],
 "metadata": {
  "kernelspec": {
   "display_name": "Python 3",
   "language": "python",
   "name": "python3"
  },
  "language_info": {
   "codemirror_mode": {
    "name": "ipython",
    "version": 3
   },
   "file_extension": ".py",
   "mimetype": "text/x-python",
   "name": "python",
   "nbconvert_exporter": "python",
   "pygments_lexer": "ipython3",
   "version": "3.7.11"
  }
 },
 "nbformat": 4,
 "nbformat_minor": 4
}
