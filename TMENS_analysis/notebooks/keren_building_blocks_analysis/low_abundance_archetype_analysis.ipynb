{
 "cells": [
  {
   "cell_type": "code",
   "execution_count": 1,
   "metadata": {},
   "outputs": [
    {
     "data": {
      "text/plain": [
       "'/srv/mfs/hausserlab/fabio/data_analysis/notebooks/karen_building_blocks_analysis'"
      ]
     },
     "execution_count": 1,
     "metadata": {},
     "output_type": "execute_result"
    }
   ],
   "source": [
    "%load_ext autoreload\n",
    "%autoreload 2\n",
    "import os\n",
    "import sys\n",
    "module_path = os.path.abspath(os.path.join('../..'))\n",
    "if module_path not in sys.path:\n",
    "    sys.path.append(module_path)\n",
    "os.getcwd()"
   ]
  },
  {
   "cell_type": "code",
   "execution_count": 2,
   "metadata": {},
   "outputs": [],
   "source": [
    "import numpy as np\n",
    "import pandas as pd\n",
    "from sklearn.decomposition import PCA\n",
    "import matplotlib.pyplot as plt\n",
    "from src.CellAbundance import CellAbundance, join_abundance_matrices, generate_abundance_matrix\n",
    "from src.utils.archetypes import ArchetypalAnalysis\n",
    "from src.utils.visualization import plot_scatter_pca, plot_3Dscatter_pca, archetypes_bar_plot, archetype_simple_plot\n",
    "from src.utils.equations import arch2color, alfa2rgb, scale, color_mapper"
   ]
  },
  {
   "cell_type": "markdown",
   "metadata": {},
   "source": [
    "### 3D Archetypes - All tumors - 4 archetypes"
   ]
  },
  {
   "cell_type": "code",
   "execution_count": 8,
   "metadata": {},
   "outputs": [
    {
     "name": "stdout",
     "output_type": "stream",
     "text": [
      "14.351176470588236\n",
      "9.162941176470587\n",
      "19.62529411764706\n",
      "20.072352941176472\n"
     ]
    },
    {
     "name": "stderr",
     "output_type": "stream",
     "text": [
      "/srv/mfs/hausserlab/fabio/data_analysis/src/CellAbundance.py:146: RuntimeWarning: invalid value encountered in true_divide\n",
      "  #    cnt_zeroes += 1\n",
      "/srv/mfs/hausserlab/fabio/data_analysis/src/CellAbundance.py:146: RuntimeWarning: invalid value encountered in true_divide\n",
      "  #    cnt_zeroes += 1\n"
     ]
    },
    {
     "name": "stdout",
     "output_type": "stream",
     "text": [
      "16.77235294117647\n",
      "18.651176470588236\n",
      "11.38\n",
      "9.990588235294117\n"
     ]
    },
    {
     "name": "stderr",
     "output_type": "stream",
     "text": [
      "/srv/mfs/hausserlab/fabio/data_analysis/src/CellAbundance.py:146: RuntimeWarning: invalid value encountered in true_divide\n",
      "  #    cnt_zeroes += 1\n",
      "/srv/mfs/hausserlab/fabio/data_analysis/src/CellAbundance.py:146: RuntimeWarning: invalid value encountered in true_divide\n",
      "  #    cnt_zeroes += 1\n",
      "/srv/mfs/hausserlab/fabio/data_analysis/src/CellAbundance.py:146: RuntimeWarning: invalid value encountered in true_divide\n",
      "  #    cnt_zeroes += 1\n"
     ]
    },
    {
     "name": "stdout",
     "output_type": "stream",
     "text": [
      "19.59764705882353\n",
      "14.184117647058823\n",
      "15.774705882352942\n",
      "21.470588235294116\n"
     ]
    },
    {
     "name": "stderr",
     "output_type": "stream",
     "text": [
      "/srv/mfs/hausserlab/fabio/data_analysis/src/CellAbundance.py:146: RuntimeWarning: invalid value encountered in true_divide\n",
      "  #    cnt_zeroes += 1\n",
      "/srv/mfs/hausserlab/fabio/data_analysis/src/CellAbundance.py:146: RuntimeWarning: invalid value encountered in true_divide\n",
      "  #    cnt_zeroes += 1\n",
      "/srv/mfs/hausserlab/fabio/data_analysis/src/CellAbundance.py:146: RuntimeWarning: invalid value encountered in true_divide\n",
      "  #    cnt_zeroes += 1\n"
     ]
    },
    {
     "name": "stdout",
     "output_type": "stream",
     "text": [
      "24.070588235294117\n",
      "19.73235294117647\n",
      "10.621764705882352\n",
      "25.83823529411765\n"
     ]
    },
    {
     "name": "stderr",
     "output_type": "stream",
     "text": [
      "/srv/mfs/hausserlab/fabio/data_analysis/src/CellAbundance.py:146: RuntimeWarning: invalid value encountered in true_divide\n",
      "  #    cnt_zeroes += 1\n",
      "/srv/mfs/hausserlab/fabio/data_analysis/src/CellAbundance.py:146: RuntimeWarning: invalid value encountered in true_divide\n",
      "  #    cnt_zeroes += 1\n",
      "/srv/mfs/hausserlab/fabio/data_analysis/src/CellAbundance.py:146: RuntimeWarning: invalid value encountered in true_divide\n",
      "  #    cnt_zeroes += 1\n",
      "/srv/mfs/hausserlab/fabio/data_analysis/src/CellAbundance.py:146: RuntimeWarning: invalid value encountered in true_divide\n",
      "  #    cnt_zeroes += 1\n"
     ]
    },
    {
     "name": "stdout",
     "output_type": "stream",
     "text": [
      "22.308823529411764\n",
      "17.248823529411766\n",
      "13.394705882352941\n",
      "15.938235294117646\n"
     ]
    },
    {
     "name": "stderr",
     "output_type": "stream",
     "text": [
      "/srv/mfs/hausserlab/fabio/data_analysis/src/CellAbundance.py:146: RuntimeWarning: invalid value encountered in true_divide\n",
      "  #    cnt_zeroes += 1\n",
      "/srv/mfs/hausserlab/fabio/data_analysis/src/CellAbundance.py:146: RuntimeWarning: invalid value encountered in true_divide\n",
      "  #    cnt_zeroes += 1\n",
      "/srv/mfs/hausserlab/fabio/data_analysis/src/CellAbundance.py:146: RuntimeWarning: invalid value encountered in true_divide\n",
      "  #    cnt_zeroes += 1\n",
      "/srv/mfs/hausserlab/fabio/data_analysis/src/CellAbundance.py:146: RuntimeWarning: invalid value encountered in true_divide\n",
      "  #    cnt_zeroes += 1\n"
     ]
    },
    {
     "name": "stdout",
     "output_type": "stream",
     "text": [
      "17.72529411764706\n",
      "9.768823529411765\n",
      "13.862941176470589\n",
      "14.22\n",
      "8.763529411764706\n"
     ]
    },
    {
     "name": "stderr",
     "output_type": "stream",
     "text": [
      "/srv/mfs/hausserlab/fabio/data_analysis/src/CellAbundance.py:146: RuntimeWarning: invalid value encountered in true_divide\n",
      "  #    cnt_zeroes += 1\n",
      "/srv/mfs/hausserlab/fabio/data_analysis/src/CellAbundance.py:146: RuntimeWarning: invalid value encountered in true_divide\n",
      "  #    cnt_zeroes += 1\n",
      "/srv/mfs/hausserlab/fabio/data_analysis/src/CellAbundance.py:146: RuntimeWarning: invalid value encountered in true_divide\n",
      "  #    cnt_zeroes += 1\n",
      "/srv/mfs/hausserlab/fabio/data_analysis/src/CellAbundance.py:146: RuntimeWarning: invalid value encountered in true_divide\n",
      "  #    cnt_zeroes += 1\n"
     ]
    },
    {
     "name": "stdout",
     "output_type": "stream",
     "text": [
      "16.006470588235295\n",
      "13.788823529411765\n",
      "18.928823529411765\n",
      "15.23235294117647\n"
     ]
    },
    {
     "name": "stderr",
     "output_type": "stream",
     "text": [
      "/srv/mfs/hausserlab/fabio/data_analysis/src/CellAbundance.py:146: RuntimeWarning: invalid value encountered in true_divide\n",
      "  #    cnt_zeroes += 1\n",
      "/srv/mfs/hausserlab/fabio/data_analysis/src/CellAbundance.py:146: RuntimeWarning: invalid value encountered in true_divide\n",
      "  #    cnt_zeroes += 1\n",
      "/srv/mfs/hausserlab/fabio/data_analysis/src/CellAbundance.py:146: RuntimeWarning: invalid value encountered in true_divide\n",
      "  #    cnt_zeroes += 1\n"
     ]
    },
    {
     "name": "stdout",
     "output_type": "stream",
     "text": [
      "9.901764705882353\n",
      "15.34529411764706\n",
      "6.512352941176471\n",
      "8.272941176470589\n"
     ]
    },
    {
     "name": "stderr",
     "output_type": "stream",
     "text": [
      "/srv/mfs/hausserlab/fabio/data_analysis/src/CellAbundance.py:146: RuntimeWarning: invalid value encountered in true_divide\n",
      "  #    cnt_zeroes += 1\n",
      "/srv/mfs/hausserlab/fabio/data_analysis/src/CellAbundance.py:146: RuntimeWarning: invalid value encountered in true_divide\n",
      "  #    cnt_zeroes += 1\n",
      "/srv/mfs/hausserlab/fabio/data_analysis/src/CellAbundance.py:146: RuntimeWarning: invalid value encountered in true_divide\n",
      "  #    cnt_zeroes += 1\n",
      "/srv/mfs/hausserlab/fabio/data_analysis/src/CellAbundance.py:146: RuntimeWarning: invalid value encountered in true_divide\n",
      "  #    cnt_zeroes += 1\n"
     ]
    },
    {
     "name": "stdout",
     "output_type": "stream",
     "text": [
      "24.907647058823528\n",
      "9.691176470588236\n",
      "19.396470588235292\n",
      "12.81235294117647\n"
     ]
    },
    {
     "name": "stderr",
     "output_type": "stream",
     "text": [
      "/srv/mfs/hausserlab/fabio/data_analysis/src/CellAbundance.py:146: RuntimeWarning: invalid value encountered in true_divide\n",
      "  #    cnt_zeroes += 1\n",
      "/srv/mfs/hausserlab/fabio/data_analysis/src/CellAbundance.py:146: RuntimeWarning: invalid value encountered in true_divide\n",
      "  #    cnt_zeroes += 1\n",
      "/srv/mfs/hausserlab/fabio/data_analysis/src/CellAbundance.py:146: RuntimeWarning: invalid value encountered in true_divide\n",
      "  #    cnt_zeroes += 1\n",
      "/srv/mfs/hausserlab/fabio/data_analysis/src/CellAbundance.py:146: RuntimeWarning: invalid value encountered in true_divide\n",
      "  #    cnt_zeroes += 1\n"
     ]
    },
    {
     "name": "stdout",
     "output_type": "stream",
     "text": [
      "11.814705882352941\n",
      "12.394705882352941\n",
      "14.702941176470588\n"
     ]
    },
    {
     "name": "stderr",
     "output_type": "stream",
     "text": [
      "/srv/mfs/hausserlab/fabio/data_analysis/src/CellAbundance.py:146: RuntimeWarning: invalid value encountered in true_divide\n",
      "  #    cnt_zeroes += 1\n",
      "/srv/mfs/hausserlab/fabio/data_analysis/src/CellAbundance.py:146: RuntimeWarning: invalid value encountered in true_divide\n",
      "  #    cnt_zeroes += 1\n",
      "/srv/mfs/hausserlab/fabio/data_analysis/src/CellAbundance.py:146: RuntimeWarning: invalid value encountered in true_divide\n",
      "  #    cnt_zeroes += 1\n"
     ]
    },
    {
     "ename": "ValueError",
     "evalue": "Input contains NaN, infinity or a value too large for dtype('float64').",
     "output_type": "error",
     "traceback": [
      "\u001b[0;31m---------------------------------------------------------------------------\u001b[0m",
      "\u001b[0;31mValueError\u001b[0m                                Traceback (most recent call last)",
      "\u001b[0;32m<ipython-input-8-bbf6f0ba4e65>\u001b[0m in \u001b[0;36m<module>\u001b[0;34m\u001b[0m\n\u001b[1;32m     11\u001b[0m \u001b[0msites\u001b[0m\u001b[0;34m,\u001b[0m \u001b[0mpatients_ids\u001b[0m \u001b[0;34m=\u001b[0m \u001b[0mjoin_abundance_matrices\u001b[0m\u001b[0;34m(\u001b[0m\u001b[0mabs_log_ca_list\u001b[0m\u001b[0;34m)\u001b[0m\u001b[0;34m\u001b[0m\u001b[0;34m\u001b[0m\u001b[0m\n\u001b[1;32m     12\u001b[0m \u001b[0mpca_3d\u001b[0m \u001b[0;34m=\u001b[0m \u001b[0mPCA\u001b[0m\u001b[0;34m(\u001b[0m\u001b[0;34m)\u001b[0m\u001b[0;34m\u001b[0m\u001b[0;34m\u001b[0m\u001b[0m\n\u001b[0;32m---> 13\u001b[0;31m \u001b[0mpc3d\u001b[0m \u001b[0;34m=\u001b[0m \u001b[0mpca_3d\u001b[0m\u001b[0;34m.\u001b[0m\u001b[0mfit_transform\u001b[0m\u001b[0;34m(\u001b[0m\u001b[0msites\u001b[0m\u001b[0;34m)\u001b[0m\u001b[0;34m\u001b[0m\u001b[0;34m\u001b[0m\u001b[0m\n\u001b[0m",
      "\u001b[0;32m~/.local/lib/python3.6/site-packages/sklearn/decomposition/_pca.py\u001b[0m in \u001b[0;36mfit_transform\u001b[0;34m(self, X, y)\u001b[0m\n\u001b[1;32m    374\u001b[0m         \u001b[0mC\u001b[0m\u001b[0;34m-\u001b[0m\u001b[0mordered\u001b[0m \u001b[0marray\u001b[0m\u001b[0;34m,\u001b[0m \u001b[0muse\u001b[0m \u001b[0;34m'np.ascontiguousarray'\u001b[0m\u001b[0;34m.\u001b[0m\u001b[0;34m\u001b[0m\u001b[0;34m\u001b[0m\u001b[0m\n\u001b[1;32m    375\u001b[0m         \"\"\"\n\u001b[0;32m--> 376\u001b[0;31m         \u001b[0mU\u001b[0m\u001b[0;34m,\u001b[0m \u001b[0mS\u001b[0m\u001b[0;34m,\u001b[0m \u001b[0mV\u001b[0m \u001b[0;34m=\u001b[0m \u001b[0mself\u001b[0m\u001b[0;34m.\u001b[0m\u001b[0m_fit\u001b[0m\u001b[0;34m(\u001b[0m\u001b[0mX\u001b[0m\u001b[0;34m)\u001b[0m\u001b[0;34m\u001b[0m\u001b[0;34m\u001b[0m\u001b[0m\n\u001b[0m\u001b[1;32m    377\u001b[0m         \u001b[0mU\u001b[0m \u001b[0;34m=\u001b[0m \u001b[0mU\u001b[0m\u001b[0;34m[\u001b[0m\u001b[0;34m:\u001b[0m\u001b[0;34m,\u001b[0m \u001b[0;34m:\u001b[0m\u001b[0mself\u001b[0m\u001b[0;34m.\u001b[0m\u001b[0mn_components_\u001b[0m\u001b[0;34m]\u001b[0m\u001b[0;34m\u001b[0m\u001b[0;34m\u001b[0m\u001b[0m\n\u001b[1;32m    378\u001b[0m \u001b[0;34m\u001b[0m\u001b[0m\n",
      "\u001b[0;32m~/.local/lib/python3.6/site-packages/sklearn/decomposition/_pca.py\u001b[0m in \u001b[0;36m_fit\u001b[0;34m(self, X)\u001b[0m\n\u001b[1;32m    396\u001b[0m \u001b[0;34m\u001b[0m\u001b[0m\n\u001b[1;32m    397\u001b[0m         X = self._validate_data(X, dtype=[np.float64, np.float32],\n\u001b[0;32m--> 398\u001b[0;31m                                 ensure_2d=True, copy=self.copy)\n\u001b[0m\u001b[1;32m    399\u001b[0m \u001b[0;34m\u001b[0m\u001b[0m\n\u001b[1;32m    400\u001b[0m         \u001b[0;31m# Handle n_components==None\u001b[0m\u001b[0;34m\u001b[0m\u001b[0;34m\u001b[0m\u001b[0;34m\u001b[0m\u001b[0m\n",
      "\u001b[0;32m~/.local/lib/python3.6/site-packages/sklearn/base.py\u001b[0m in \u001b[0;36m_validate_data\u001b[0;34m(self, X, y, reset, validate_separately, **check_params)\u001b[0m\n\u001b[1;32m    418\u001b[0m                     \u001b[0;34mf\"requires y to be passed, but the target y is None.\"\u001b[0m\u001b[0;34m\u001b[0m\u001b[0;34m\u001b[0m\u001b[0m\n\u001b[1;32m    419\u001b[0m                 )\n\u001b[0;32m--> 420\u001b[0;31m             \u001b[0mX\u001b[0m \u001b[0;34m=\u001b[0m \u001b[0mcheck_array\u001b[0m\u001b[0;34m(\u001b[0m\u001b[0mX\u001b[0m\u001b[0;34m,\u001b[0m \u001b[0;34m**\u001b[0m\u001b[0mcheck_params\u001b[0m\u001b[0;34m)\u001b[0m\u001b[0;34m\u001b[0m\u001b[0;34m\u001b[0m\u001b[0m\n\u001b[0m\u001b[1;32m    421\u001b[0m             \u001b[0mout\u001b[0m \u001b[0;34m=\u001b[0m \u001b[0mX\u001b[0m\u001b[0;34m\u001b[0m\u001b[0;34m\u001b[0m\u001b[0m\n\u001b[1;32m    422\u001b[0m         \u001b[0;32melse\u001b[0m\u001b[0;34m:\u001b[0m\u001b[0;34m\u001b[0m\u001b[0;34m\u001b[0m\u001b[0m\n",
      "\u001b[0;32m~/.local/lib/python3.6/site-packages/sklearn/utils/validation.py\u001b[0m in \u001b[0;36minner_f\u001b[0;34m(*args, **kwargs)\u001b[0m\n\u001b[1;32m     70\u001b[0m                           FutureWarning)\n\u001b[1;32m     71\u001b[0m         \u001b[0mkwargs\u001b[0m\u001b[0;34m.\u001b[0m\u001b[0mupdate\u001b[0m\u001b[0;34m(\u001b[0m\u001b[0;34m{\u001b[0m\u001b[0mk\u001b[0m\u001b[0;34m:\u001b[0m \u001b[0marg\u001b[0m \u001b[0;32mfor\u001b[0m \u001b[0mk\u001b[0m\u001b[0;34m,\u001b[0m \u001b[0marg\u001b[0m \u001b[0;32min\u001b[0m \u001b[0mzip\u001b[0m\u001b[0;34m(\u001b[0m\u001b[0msig\u001b[0m\u001b[0;34m.\u001b[0m\u001b[0mparameters\u001b[0m\u001b[0;34m,\u001b[0m \u001b[0margs\u001b[0m\u001b[0;34m)\u001b[0m\u001b[0;34m}\u001b[0m\u001b[0;34m)\u001b[0m\u001b[0;34m\u001b[0m\u001b[0;34m\u001b[0m\u001b[0m\n\u001b[0;32m---> 72\u001b[0;31m         \u001b[0;32mreturn\u001b[0m \u001b[0mf\u001b[0m\u001b[0;34m(\u001b[0m\u001b[0;34m**\u001b[0m\u001b[0mkwargs\u001b[0m\u001b[0;34m)\u001b[0m\u001b[0;34m\u001b[0m\u001b[0;34m\u001b[0m\u001b[0m\n\u001b[0m\u001b[1;32m     73\u001b[0m     \u001b[0;32mreturn\u001b[0m \u001b[0minner_f\u001b[0m\u001b[0;34m\u001b[0m\u001b[0;34m\u001b[0m\u001b[0m\n\u001b[1;32m     74\u001b[0m \u001b[0;34m\u001b[0m\u001b[0m\n",
      "\u001b[0;32m~/.local/lib/python3.6/site-packages/sklearn/utils/validation.py\u001b[0m in \u001b[0;36mcheck_array\u001b[0;34m(array, accept_sparse, accept_large_sparse, dtype, order, copy, force_all_finite, ensure_2d, allow_nd, ensure_min_samples, ensure_min_features, estimator)\u001b[0m\n\u001b[1;32m    643\u001b[0m         \u001b[0;32mif\u001b[0m \u001b[0mforce_all_finite\u001b[0m\u001b[0;34m:\u001b[0m\u001b[0;34m\u001b[0m\u001b[0;34m\u001b[0m\u001b[0m\n\u001b[1;32m    644\u001b[0m             _assert_all_finite(array,\n\u001b[0;32m--> 645\u001b[0;31m                                allow_nan=force_all_finite == 'allow-nan')\n\u001b[0m\u001b[1;32m    646\u001b[0m \u001b[0;34m\u001b[0m\u001b[0m\n\u001b[1;32m    647\u001b[0m     \u001b[0;32mif\u001b[0m \u001b[0mensure_min_samples\u001b[0m \u001b[0;34m>\u001b[0m \u001b[0;36m0\u001b[0m\u001b[0;34m:\u001b[0m\u001b[0;34m\u001b[0m\u001b[0;34m\u001b[0m\u001b[0m\n",
      "\u001b[0;32m~/.local/lib/python3.6/site-packages/sklearn/utils/validation.py\u001b[0m in \u001b[0;36m_assert_all_finite\u001b[0;34m(X, allow_nan, msg_dtype)\u001b[0m\n\u001b[1;32m     97\u001b[0m                     \u001b[0mmsg_err\u001b[0m\u001b[0;34m.\u001b[0m\u001b[0mformat\u001b[0m\u001b[0;34m\u001b[0m\u001b[0;34m\u001b[0m\u001b[0m\n\u001b[1;32m     98\u001b[0m                     (type_err,\n\u001b[0;32m---> 99\u001b[0;31m                      msg_dtype if msg_dtype is not None else X.dtype)\n\u001b[0m\u001b[1;32m    100\u001b[0m             )\n\u001b[1;32m    101\u001b[0m     \u001b[0;31m# for object dtype data, we only check for NaNs (GH-13254)\u001b[0m\u001b[0;34m\u001b[0m\u001b[0;34m\u001b[0m\u001b[0;34m\u001b[0m\u001b[0m\n",
      "\u001b[0;31mValueError\u001b[0m: Input contains NaN, infinity or a value too large for dtype('float64')."
     ]
    }
   ],
   "source": [
    "CELL_TYPES = ['CD8-T', 'Other immune', 'DC / Mono', 'CD3-T', 'B', 'NK', 'Keratin-positive tumor', 'Tumor', \n",
    "              'CD4-T', 'Mesenchymal-like', 'Macrophages', 'Endothelial', 'Tregs', 'Unidentified', 'DC', 'Mono / Neu', \n",
    "              'Neutrophils']\n",
    "#patient_ids = [1, 2, 3, 4, 5]\n",
    "patient_ids = [1, 2, 3, 4, 5, 6, 7, 8, 9, 10, 11, 12, 13, 14, 15, 16, 17, 18, 19, 20, 21, 22, 23, 24, 25, 26, 27, 28, 29, 31, 32, 33, 34, 35, 36, 37, 38, 39, 40, 41]\n",
    "N_SITE = 100\n",
    "RADIUS = 100\n",
    "ROOT_DATA_PATH = \"../../data/cell_positions_data\"\n",
    "\n",
    "abs_log_ca_list = generate_abundance_matrix(CELL_TYPES, patient_ids, N_SITE, RADIUS, method='avg', snr=3, root=ROOT_DATA_PATH)\n",
    "sites, patients_ids = join_abundance_matrices(abs_log_ca_list)\n",
    "pca_3d = PCA()\n",
    "pc3d = pca_3d.fit_transform(sites)"
   ]
  },
  {
   "cell_type": "code",
   "execution_count": null,
   "metadata": {},
   "outputs": [],
   "source": [
    "n_archs = list(range(2, 6))\n",
    "\n",
    "lst_exp_var = []\n",
    "for n_arch in n_archs:\n",
    "    AA = ArchetypalAnalysis(n_archetypes = n_arch, \n",
    "                        tolerance = 0.001, \n",
    "                        max_iter = 200, \n",
    "                            \n",
    "                        random_state = 0, \n",
    "                        C = 0.0001, \n",
    "                        initialize = 'random',\n",
    "                        redundancy_try = 30)\n",
    "    AA.fit(pc3d[:, :3])\n",
    "    lst_exp_var.append(AA.explained_variance_)\n",
    "\n",
    "plt.plot(n_archs, lst_exp_var, '-o')\n",
    "plt.ylim(0, 1)\n",
    "plt.show()"
   ]
  },
  {
   "cell_type": "code",
   "execution_count": null,
   "metadata": {},
   "outputs": [],
   "source": [
    "plt.plot(n_archs, lst_exp_var, '-o')\n",
    "plt.ylim(0, 1)\n",
    "plt.show()"
   ]
  },
  {
   "cell_type": "code",
   "execution_count": null,
   "metadata": {},
   "outputs": [],
   "source": [
    "AA_3D = ArchetypalAnalysis(n_archetypes = 4, \n",
    "                        tolerance = 0.001, \n",
    "                        max_iter = 200, \n",
    "                        random_state = 0, \n",
    "                        C = 0.0001, \n",
    "                        initialize = 'random',\n",
    "                        redundancy_try = 30)\n",
    "AA_3D.fit_transform(pc3d[:, :3])"
   ]
  },
  {
   "cell_type": "code",
   "execution_count": null,
   "metadata": {},
   "outputs": [],
   "source": [
    "np.array([0, 153, 51]) / 255"
   ]
  },
  {
   "cell_type": "code",
   "execution_count": null,
   "metadata": {},
   "outputs": [],
   "source": [
    "def round2one(v):\n",
    "    return v if v <= 1.0 else 1.0\n",
    "color_map = np.array([[255, 0, 0], [0, 153, 51], [0, 0, 255], [255, 255, 0]]).T\n",
    "sites_archetype = [np.array([round2one(x) for x in color_mapper(color_map, c)/255]) for c in AA_3D.alfa.T]\n",
    "p = np.array(sites_archetype)\n",
    "p[p > 1]"
   ]
  },
  {
   "cell_type": "code",
   "execution_count": null,
   "metadata": {},
   "outputs": [],
   "source": [
    "#%matplotlib notebook\n",
    "plot_3Dscatter_pca(pc3d, pca_3d.explained_variance_ratio_, labels=sites_archetype, archetypes=AA_3D.archetypes)"
   ]
  },
  {
   "cell_type": "code",
   "execution_count": null,
   "metadata": {},
   "outputs": [],
   "source": [
    "pc3d[:, :3]\n",
    "AA_3D.alfa.T"
   ]
  },
  {
   "cell_type": "code",
   "execution_count": null,
   "metadata": {},
   "outputs": [],
   "source": [
    "AA_3D.plot_simplex(AA_3D.alfa, plot_args={'c': sites_archetype})"
   ]
  },
  {
   "cell_type": "code",
   "execution_count": null,
   "metadata": {},
   "outputs": [],
   "source": [
    "n_comp = 3\n",
    "res = np.dot(AA_3D.archetypes.T, pca_3d.components_[:n_comp,:])+np.mean(sites, axis=0)"
   ]
  },
  {
   "cell_type": "code",
   "execution_count": null,
   "metadata": {},
   "outputs": [],
   "source": [
    "archetype_colors = [[1., 0., 0.], [0. , 0.6, 0.2], [0., 0., 1.], [1.0, 1.0, 0.]]\n",
    "archetypes_bar_plot(res, CELL_TYPES, archetype_colors, y_axis='density', radius=RADIUS)"
   ]
  },
  {
   "cell_type": "code",
   "execution_count": null,
   "metadata": {},
   "outputs": [],
   "source": [
    "for a in range(4):\n",
    "    archetype_simple_plot(res[a], a, archetype_colors, CELL_TYPES, y_axis='density')"
   ]
  },
  {
   "cell_type": "code",
   "execution_count": null,
   "metadata": {},
   "outputs": [],
   "source": [
    "d = np.array([3, 0, 0, 0, 0, 0, 0, 0, 0, 0, 0, 0, 0, 0, 0, 0, 0]).reshape(1, -1)\n",
    "print(d)\n",
    "new_pc = pca_3d.transform(d)\n",
    "AA_3D.transform(new_pc[:, :3])"
   ]
  },
  {
   "cell_type": "code",
   "execution_count": null,
   "metadata": {},
   "outputs": [],
   "source": [
    "import pickle\n",
    "with open(\"pca_3d\", \"wb\") as f:\n",
    "    pickle.dump(pca_3d, f)\n",
    "\n",
    "with open(\"AA_3D\", \"wb\") as f:\n",
    "    pickle.dump(AA_3D, f)"
   ]
  },
  {
   "cell_type": "code",
   "execution_count": null,
   "metadata": {},
   "outputs": [],
   "source": []
  },
  {
   "cell_type": "markdown",
   "metadata": {},
   "source": [
    "### 3D Archetypes - All tumors - 5 archetypes"
   ]
  },
  {
   "cell_type": "code",
   "execution_count": null,
   "metadata": {},
   "outputs": [],
   "source": [
    "CELL_TYPES = ['CD8-T', 'Other immune', 'DC / Mono', 'CD3-T', 'B', 'NK', 'Keratin-positive tumor', 'Tumor', \n",
    "              'CD4-T', 'Mesenchymal-like', 'Macrophages', 'Endothelial', 'Tregs', 'Unidentified', 'DC', 'Mono / Neu', \n",
    "              'Neutrophils']\n",
    "#patient_ids = [1, 2, 3, 4, 5]\n",
    "patient_ids = [1, 2, 3, 4, 5, 6, 7, 8, 9, 10, 11, 12, 13, 14, 15, 16, 17, 18, 19, 20, 21, 22, 23, 24, 25, 26, 27, 28, 29, 31, 32, 33, 34, 35, 36, 37, 38, 39, 40, 41]\n",
    "N_SITE = 100\n",
    "RADIUS = 100\n",
    "ROOT_DATA_PATH = \"../../data/cell_positions_data\"\n",
    "\n",
    "abs_log_ca_list = generate_abundance_matrix(CELL_TYPES, patient_ids, N_SITE, RADIUS, method='abs', snr=3, root=ROOT_DATA_PATH)\n",
    "sites, patients_ids = join_abundance_matrices(abs_log_ca_list)\n",
    "pca_3d = PCA()\n",
    "pc3d = pca_3d.fit_transform(sites)"
   ]
  },
  {
   "cell_type": "code",
   "execution_count": null,
   "metadata": {},
   "outputs": [],
   "source": [
    "plt.plot(n_archs, lst_exp_var, '-o')\n",
    "plt.ylim(0, 1)\n",
    "plt.show()"
   ]
  },
  {
   "cell_type": "code",
   "execution_count": null,
   "metadata": {},
   "outputs": [],
   "source": [
    "n_archetypes = 5"
   ]
  },
  {
   "cell_type": "code",
   "execution_count": null,
   "metadata": {},
   "outputs": [],
   "source": [
    "AA_3D = ArchetypalAnalysis(n_archetypes = n_archetypes, \n",
    "                        tolerance = 0.001, \n",
    "                        max_iter = 200, \n",
    "                        random_state = 0, \n",
    "                        C = 0.0001, \n",
    "                        initialize = 'random',\n",
    "                        redundancy_try = 30)\n",
    "AA_3D.fit_transform(pc3d[:, :3])"
   ]
  },
  {
   "cell_type": "code",
   "execution_count": null,
   "metadata": {},
   "outputs": [],
   "source": [
    "np.array([0, 153, 51]) / 255"
   ]
  },
  {
   "cell_type": "code",
   "execution_count": null,
   "metadata": {},
   "outputs": [],
   "source": [
    "def round2one(v):\n",
    "    return v if v <= 1.0 else 1.0\n",
    "color_map = np.array([[255, 0, 0], [0, 153, 51], [0, 0, 255], [255, 255, 0], [255, 0, 255]]).T\n",
    "sites_archetype = [np.array([round2one(x) for x in color_mapper(color_map, c)/255]) for c in AA_3D.alfa.T]\n",
    "p = np.array(sites_archetype)\n",
    "p[p > 1]"
   ]
  },
  {
   "cell_type": "code",
   "execution_count": null,
   "metadata": {},
   "outputs": [],
   "source": [
    "#%matplotlib notebook\n",
    "plot_3Dscatter_pca(pc3d, pca_3d.explained_variance_ratio_, labels=sites_archetype, archetypes=AA_3D.archetypes)"
   ]
  },
  {
   "cell_type": "code",
   "execution_count": null,
   "metadata": {},
   "outputs": [],
   "source": [
    "pc3d[:, :3]\n",
    "AA_3D.alfa.T"
   ]
  },
  {
   "cell_type": "code",
   "execution_count": null,
   "metadata": {},
   "outputs": [],
   "source": [
    "AA_3D.plot_simplex(AA_3D.alfa, plot_args={'c': sites_archetype})"
   ]
  },
  {
   "cell_type": "code",
   "execution_count": null,
   "metadata": {},
   "outputs": [],
   "source": [
    "n_comp = 3\n",
    "res = np.dot(AA_3D.archetypes.T, pca_3d.components_[:n_comp,:])+np.mean(sites, axis=0)"
   ]
  },
  {
   "cell_type": "code",
   "execution_count": null,
   "metadata": {
    "scrolled": false
   },
   "outputs": [],
   "source": [
    "archetype_colors = [[1., 0., 0.], [0. , 0.6, 0.2], [0., 0., 1.], [1.0, 1.0, 0.], [1.0, 0, 1.0]]\n",
    "archetypes_bar_plot(res, CELL_TYPES, archetype_colors, y_axis='density', radius=RADIUS)"
   ]
  },
  {
   "cell_type": "code",
   "execution_count": null,
   "metadata": {
    "scrolled": false
   },
   "outputs": [],
   "source": [
    "for a in range(n_archetypes):\n",
    "    archetype_simple_plot(res[a], a, archetype_colors, CELL_TYPES, y_axis='density')"
   ]
  },
  {
   "cell_type": "code",
   "execution_count": null,
   "metadata": {},
   "outputs": [],
   "source": [
    "d = np.array([3, 0, 0, 0, 0, 0, 0, 0, 0, 0, 0, 0, 0, 0, 0, 0, 0]).reshape(1, -1)\n",
    "print(d)\n",
    "new_pc = pca_3d.transform(d)\n",
    "AA_3D.transform(new_pc[:, :3])"
   ]
  },
  {
   "cell_type": "code",
   "execution_count": null,
   "metadata": {},
   "outputs": [],
   "source": [
    "import pickle\n",
    "with open(\"pca_3d\", \"wb\") as f:\n",
    "    pickle.dump(pca_3d, f)\n",
    "\n",
    "with open(\"AA_3D\", \"wb\") as f:\n",
    "    pickle.dump(AA_3D, f)"
   ]
  },
  {
   "cell_type": "markdown",
   "metadata": {},
   "source": [
    "### Sites Archetypes"
   ]
  },
  {
   "cell_type": "code",
   "execution_count": null,
   "metadata": {},
   "outputs": [],
   "source": [
    "AA_sites = ArchetypalAnalysis(n_archetypes = 3, \n",
    "                        tolerance = 0.001, \n",
    "                        max_iter = 200, \n",
    "                        random_state = 0, \n",
    "                        C = 0.0001, \n",
    "                        initialize = 'random',\n",
    "                        redundancy_try = 30)"
   ]
  },
  {
   "cell_type": "code",
   "execution_count": null,
   "metadata": {},
   "outputs": [],
   "source": [
    "AA_sites.fit_transform(sites)"
   ]
  },
  {
   "cell_type": "code",
   "execution_count": null,
   "metadata": {},
   "outputs": [],
   "source": [
    "sites_archetype = list(map(arch2color, np.argmax(AA_sites.alfa, axis=0)))\n",
    "AA_sites.plot_simplex(AA_sites.alfa, plot_args={'color': sites_archetype})"
   ]
  },
  {
   "cell_type": "code",
   "execution_count": null,
   "metadata": {},
   "outputs": [],
   "source": [
    "AA_sites.plot_profile(CELL_TYPES)"
   ]
  }
 ],
 "metadata": {
  "kernelspec": {
   "display_name": "Python 3",
   "language": "python",
   "name": "python3"
  },
  "language_info": {
   "codemirror_mode": {
    "name": "ipython",
    "version": 3
   },
   "file_extension": ".py",
   "mimetype": "text/x-python",
   "name": "python",
   "nbconvert_exporter": "python",
   "pygments_lexer": "ipython3",
   "version": "3.7.11"
  }
 },
 "nbformat": 4,
 "nbformat_minor": 4
}
