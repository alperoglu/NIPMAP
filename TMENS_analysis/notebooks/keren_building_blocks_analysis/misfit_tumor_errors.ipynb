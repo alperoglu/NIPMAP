{
 "cells": [
  {
   "cell_type": "code",
   "execution_count": 1,
   "metadata": {},
   "outputs": [
    {
     "data": {
      "text/plain": [
       "'/srv/mfs/hausserlab/fabio/data_analysis/notebooks'"
      ]
     },
     "execution_count": 1,
     "metadata": {},
     "output_type": "execute_result"
    }
   ],
   "source": [
    "%load_ext autoreload\n",
    "%autoreload 2\n",
    "import os\n",
    "import sys\n",
    "module_path = os.path.abspath(os.path.join('..'))\n",
    "if module_path not in sys.path:\n",
    "    sys.path.append(module_path)\n",
    "os.getcwd()"
   ]
  },
  {
   "cell_type": "code",
   "execution_count": 2,
   "metadata": {},
   "outputs": [],
   "source": [
    "import pandas as pd\n",
    "import numpy as np\n",
    "from sklearn.decomposition import PCA\n",
    "import matplotlib.pyplot as plt\n",
    "from src.CellAbundance import CellAbundance, join_abundance_matrices, generate_abundance_matrix\n",
    "from src.utils.visualization import tumor_misfit_barplot\n",
    "from src.utils.equations import tumor_misfit_error"
   ]
  },
  {
   "cell_type": "code",
   "execution_count": 3,
   "metadata": {},
   "outputs": [],
   "source": [
    "CELL_TYPES = ['Keratin-positive tumor', 'Treg', 'CD3-T', 'Neutrophils', 'Tumor', 'B', \n",
    "              'Macrophages', 'Mesenchymal-like', 'Other Immune', 'CD8-T', 'CD4-T', \n",
    "              'Undefined', 'Mono/Neu', 'DC/Mono', 'Endothelial', 'DC', 'NK']\n",
    "full_patient_ids = [1, 2, 3, 4, 5, 6, 7, 8, 9, 10, 11, 12, 13, 14, 15, 16, 17, 18, 19, 20, 21, 22, 23, 24, 25, 26, 27, 28, 29, 31, 32, 33, 34, 35, 36, 37, 38, 39, 40, 41]\n",
    "N_SITE = 100\n",
    "RADIUS = 100\n",
    "ROOT_PATH = \"../../data/cell_positions_data\"\n",
    "\n",
    "abs_log_ca_list = generate_abundance_matrix(CELL_TYPES, full_patient_ids, N_SITE, RADIUS, method='abs', snr=3)\n",
    "sites, tumor_ids = join_abundance_matrices(abs_log_ca_list)\n",
    "pca = PCA()\n",
    "pc = pca.fit_transform(sites)"
   ]
  },
  {
   "cell_type": "code",
   "execution_count": 4,
   "metadata": {},
   "outputs": [],
   "source": [
    "#res = pc[:, 0:3].dot(pca.components_[0:3, :])\n",
    "n_comp = 3\n",
    "res = np.dot(pc[:,:n_comp], pca.components_[:n_comp,:]) + np.mean(sites, axis=0)"
   ]
  },
  {
   "cell_type": "code",
   "execution_count": 5,
   "metadata": {
    "scrolled": true
   },
   "outputs": [
    {
     "data": {
      "text/plain": [
       "array([[-2.44154924e+00,  2.43795949e-15,  7.65400441e-01, ...,\n",
       "        -2.74782199e+00, -4.13393732e-01,  2.21340795e-01],\n",
       "       [-1.99322794e+00,  2.31455458e-15,  5.65557416e+00, ...,\n",
       "        -7.54390799e-01, -4.97615927e-01,  9.90145692e-02],\n",
       "       [ 1.64709489e+00,  7.76876955e-15,  2.28835406e+01, ...,\n",
       "        -2.70128980e+00, -1.53505595e+00,  1.83888219e+00],\n",
       "       ...,\n",
       "       [ 1.03176165e+00,  3.86140532e-15,  4.93822958e+00, ...,\n",
       "        -1.38077813e+00, -8.84103926e-01,  2.87667837e-01],\n",
       "       [-5.01501315e-01,  5.94519788e-16,  2.03317957e+01, ...,\n",
       "        -3.34616485e+00, -1.62050986e+00, -2.03488516e-01],\n",
       "       [ 1.58281826e+00,  2.46155439e-15,  4.84717721e+00, ...,\n",
       "        -2.58328889e+00, -1.39615563e+00, -5.38025320e-01]])"
      ]
     },
     "execution_count": 5,
     "metadata": {},
     "output_type": "execute_result"
    }
   ],
   "source": [
    "np.subtract(sites, res)"
   ]
  },
  {
   "cell_type": "code",
   "execution_count": 6,
   "metadata": {},
   "outputs": [
    {
     "data": {
      "image/png": "[encoded data removed]",
      "text/plain": [
       "<Figure size 432x288 with 1 Axes>"
      ]
     },
     "metadata": {
      "needs_background": "light"
     },
     "output_type": "display_data"
    }
   ],
   "source": [
    "#control scatter plot\n",
    "plt.scatter(res.flatten(), sites.flatten())\n",
    "plt.show()"
   ]
  },
  {
   "cell_type": "code",
   "execution_count": 7,
   "metadata": {},
   "outputs": [
    {
     "data": {
      "image/png": "[encoded data removed]",
      "text/plain": [
       "<Figure size 432x288 with 1 Axes>"
      ]
     },
     "metadata": {
      "needs_background": "light"
     },
     "output_type": "display_data"
    }
   ],
   "source": [
    "#control scatter plot\n",
    "tumor_id = 15\n",
    "plt.scatter(res[np.where(tumor_ids == tumor_id)[0]].flatten(), sites[np.where(tumor_ids == tumor_id)[0]].flatten())\n",
    "plt.show()"
   ]
  },
  {
   "cell_type": "code",
   "execution_count": 12,
   "metadata": {},
   "outputs": [],
   "source": [
    "#n_comp = 3\n",
    "#res = np.dot(pc[:,:n_comp], pca.components_[:n_comp,:]) + np.mean(sites, axis=0)"
   ]
  },
  {
   "cell_type": "code",
   "execution_count": 8,
   "metadata": {},
   "outputs": [
    {
     "name": "stdout",
     "output_type": "stream",
     "text": [
      "908797.79\n",
      "22120.22\n",
      "495062.4600000001\n",
      "1033644.09\n",
      "654690.89\n",
      "662298.46\n",
      "73371.51999999999\n",
      "137260.41\n",
      "792566.45\n",
      "109954.32\n",
      "123761.56\n",
      "237362.73\n",
      "304920.63\n",
      "103507.59\n",
      "15463.179999999998\n",
      "1074115.93\n",
      "664819.99\n",
      "33178.44\n",
      "327717.42\n",
      "411483.27\n",
      "296873.35\n",
      "91700.37\n",
      "210575.95\n",
      "82624.92\n",
      "310210.89999999997\n",
      "836977.39\n",
      "193702.97\n",
      "2704010.58\n",
      "303836.56\n",
      "167742.16\n",
      "233022.51\n",
      "98380.87000000001\n",
      "188514.93\n",
      "4101859.08\n",
      "141792.95\n",
      "559718.59\n",
      "221080.89\n",
      "223377.46\n",
      "291614.67000000004\n",
      "111703.78\n"
     ]
    }
   ],
   "source": [
    "e = np.array([tumor_misfit_error(sites[np.where(tumor_ids == p_id)[0], :], res[np.where(tumor_ids == p_id)[0], :]) for p_id in full_patient_ids])\n"
   ]
  },
  {
   "cell_type": "code",
   "execution_count": 9,
   "metadata": {},
   "outputs": [
    {
     "data": {
      "image/png": "[encoded data removed]",
      "text/plain": [
       "<Figure size 720x360 with 1 Axes>"
      ]
     },
     "metadata": {
      "needs_background": "light"
     },
     "output_type": "display_data"
    }
   ],
   "source": [
    "tumor_misfit_barplot(full_patient_ids, e)"
   ]
  },
  {
   "cell_type": "code",
   "execution_count": 25,
   "metadata": {},
   "outputs": [
    {
     "data": {
      "text/plain": [
       "<AxesSubplot:ylabel='Count'>"
      ]
     },
     "execution_count": 25,
     "metadata": {},
     "output_type": "execute_result"
    },
    {
     "data": {
      "image/png": "[encoded data removed]",
      "text/plain": [
       "<Figure size 432x288 with 1 Axes>"
      ]
     },
     "metadata": {
      "needs_background": "light"
     },
     "output_type": "display_data"
    }
   ],
   "source": [
    "import seaborn as sns\n",
    "sns.histplot(e, bins=10)"
   ]
  }
 ],
 "metadata": {
  "kernelspec": {
   "display_name": "Python 3",
   "language": "python",
   "name": "python3"
  },
  "language_info": {
   "codemirror_mode": {
    "name": "ipython",
    "version": 3
   },
   "file_extension": ".py",
   "mimetype": "text/x-python",
   "name": "python",
   "nbconvert_exporter": "python",
   "pygments_lexer": "ipython3",
   "version": "3.7.11"
  }
 },
 "nbformat": 4,
 "nbformat_minor": 4
}
