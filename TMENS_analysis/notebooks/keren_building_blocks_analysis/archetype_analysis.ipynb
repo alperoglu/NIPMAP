{
 "cells": [
  {
   "cell_type": "code",
   "execution_count": 1,
   "metadata": {},
   "outputs": [
    {
     "data": {
      "text/plain": [
       "'/scratch/anissa.el/MacroMicroNichesElMarrahi2022/data_analysis/notebooks/keren_building_blocks_analysis'"
      ]
     },
     "execution_count": 1,
     "metadata": {},
     "output_type": "execute_result"
    }
   ],
   "source": [
    "%load_ext autoreload\n",
    "%autoreload 2\n",
    "import os\n",
    "import sys\n",
    "module_path = os.path.abspath(os.path.join('../..'))\n",
    "if module_path not in sys.path:\n",
    "    sys.path.append(module_path)\n",
    "os.getcwd()"
   ]
  },
  {
   "cell_type": "code",
   "execution_count": 2,
   "metadata": {},
   "outputs": [],
   "source": [
    "import numpy as np\n",
    "import pandas as pd\n",
    "from sklearn.decomposition import PCA\n",
    "import matplotlib.pyplot as plt\n",
    "from src.CellAbundance import CellAbundance, join_abundance_matrices, generate_abundance_matrix\n",
    "from src.utils.archetypes import ArchetypalAnalysis\n",
    "from src.utils.visualization import plot_scatter_pca, plot_3Dscatter_pca, archetypes_bar_plot, archetype_simple_plot\n",
    "from src.utils.equations import arch2color, alfa2rgb, scale, color_mapper"
   ]
  },
  {
   "cell_type": "markdown",
   "metadata": {},
   "source": [
    "### 3D Archetypes - All tumors - 4 archetypes"
   ]
  },
  {
   "cell_type": "code",
   "execution_count": 3,
   "metadata": {},
   "outputs": [],
   "source": [
    "CELL_TYPES = ['CD8-T', 'Other immune', 'DC / Mono', 'CD3-T', 'B', 'NK', 'Keratin-positive tumor', 'Tumor', \n",
    "              'CD4-T', 'Mesenchymal-like', 'Macrophages', 'Endothelial', 'Tregs', 'Unidentified', 'DC', 'Mono / Neu', \n",
    "              'Neutrophils']\n",
    "patient_ids = [1, 2, 3, 4, 5, 6, 7, 8, 9, 10, 11, 12, 13, 14, 15, 16, 17, 18, 19, 20, 21, 22, 23, 24, 25, 26, 27, 28, 29, 31, 32, 33, 34, 35, 36, 37, 38, 39, 40, 41]\n",
    "N_SITE = 100\n",
    "RADIUS = 25\n",
    "ROOT_DATA_PATH = \"../../data/cell_positions_data\"#\"/srv/mfs/hausserlab/fabio/output/cell_positions_data\" #\"../../../../fabio/output/cell_positions_data\"\n",
    "METHOD = \"gaussian\"\n",
    "\n",
    "gauss_ca_list = generate_abundance_matrix(CELL_TYPES, patient_ids, N_SITE, RADIUS, method=METHOD, snr=3,center_sites_cells=False,root=ROOT_DATA_PATH)\n",
    "sites, patients_ids,sites_ids, _ = join_abundance_matrices(gauss_ca_list)\n",
    "\n",
    "pca_3d = PCA()\n",
    "pc3d = pca_3d.fit_transform(sites)"
   ]
  },
  {
   "cell_type": "code",
   "execution_count": 4,
   "metadata": {},
   "outputs": [
    {
     "name": "stdout",
     "output_type": "stream",
     "text": [
      "Warning: A redundant archetype was recognised. The redundancy issue was resolved after 1 try(s) and a new candidate is replaced.\n",
      "Warning: A redundant archetype was recognised. The redundancy issue was resolved after 2 try(s) and a new candidate is replaced.\n",
      "Warning: A redundant archetype was recognised. The redundancy issue was resolved after 1 try(s) and a new candidate is replaced.\n"
     ]
    },
    {
     "data": {
      "image/png": "[encoded data removed]",
      "text/plain": [
       "<Figure size 432x288 with 1 Axes>"
      ]
     },
     "metadata": {
      "needs_background": "light"
     },
     "output_type": "display_data"
    }
   ],
   "source": [
    "n_archs = list(range(2, 6))\n",
    "\n",
    "lst_exp_var = []\n",
    "for n_arch in n_archs:\n",
    "    AA = ArchetypalAnalysis(n_archetypes = n_arch, \n",
    "                        tolerance = 0.001, \n",
    "                        max_iter = 200, \n",
    "                            \n",
    "                        random_state = 0, \n",
    "                        C = 0.0001, \n",
    "                        initialize = 'random',\n",
    "                        redundancy_try = 30)\n",
    "    AA.fit(pc3d[:, :3])\n",
    "    lst_exp_var.append(AA.explained_variance_)\n",
    "\n",
    "plt.plot(n_archs, lst_exp_var, '-o')\n",
    "plt.ylim(0, 1)\n",
    "plt.show()"
   ]
  },
  {
   "cell_type": "code",
   "execution_count": 5,
   "metadata": {},
   "outputs": [
    {
     "name": "stdout",
     "output_type": "stream",
     "text": [
      "Warning: A redundant archetype was recognised. The redundancy issue was resolved after 1 try(s) and a new candidate is replaced.\n",
      "Warning: A redundant archetype was recognised. The redundancy issue was resolved after 2 try(s) and a new candidate is replaced.\n"
     ]
    },
    {
     "data": {
      "text/plain": [
       "array([[-1.64065242e-03,  2.28374365e-03, -1.97773174e-03],\n",
       "       [ 4.98574610e-04, -1.56538218e-04, -3.51542978e-04],\n",
       "       [-6.73701014e-04,  1.18349625e-03, -3.35856489e-04],\n",
       "       ...,\n",
       "       [-7.15089159e-04,  2.98473969e-04,  4.30810830e-05],\n",
       "       [-2.61752055e-03, -6.66480752e-04,  6.48881470e-04],\n",
       "       [ 3.30932787e-04, -4.13970533e-04,  7.98885422e-06]])"
      ]
     },
     "execution_count": 5,
     "metadata": {},
     "output_type": "execute_result"
    }
   ],
   "source": [
    "AA_3D = ArchetypalAnalysis(n_archetypes = 4, \n",
    "                        tolerance = 0.001, \n",
    "                        max_iter = 200, \n",
    "                        random_state = 0, \n",
    "                        C = 0.0001, \n",
    "                        initialize = 'random',\n",
    "                        redundancy_try = 30)\n",
    "AA_3D.fit_transform(pc3d[:, :3])"
   ]
  },
  {
   "cell_type": "code",
   "execution_count": null,
   "metadata": {},
   "outputs": [],
   "source": [
    "AA_3D.alfa.T.shape"
   ]
  },
  {
   "cell_type": "markdown",
   "metadata": {},
   "source": [
    "## Analysis predicted versus observed cell abundance"
   ]
  },
  {
   "cell_type": "code",
   "execution_count": null,
   "metadata": {},
   "outputs": [],
   "source": [
    "## COMPUTE RESIDUALS FROM ARCHETYPAL ANALYSIS\n",
    "import scipy.linalg as scla\n",
    "ncomp = 3\n",
    "\n",
    "#residuals_AA3D = (AA_3D.X- AA_3D.X_approx).T\n",
    "X_fitted = np.dot(AA_3D.X_approx.T, pca_3d.components_[:ncomp,:])+np.mean(sites, axis=0)\n",
    "sum_xfit = np.sum(X_fitted,axis=1)\n",
    "mins_xfit = -np.amin(X_fitted,axis=1)\n",
    "\n",
    "#print(sum_xfit)\n",
    "#print(np.sum((X_fitted/X_fitted.sum(axis=1)[:,None])*100,axis=1))\n",
    "#((X_fitted+mins_xfit[:,None])/sum_xfit[:,None])*100\n",
    "X_fit_cells = pd.DataFrame(X_fitted, columns = CELL_TYPES )#(((X_fitted+mins_xfit[:,None])/sum_xfit[:,None])*100, columns = CELL_TYPES)\n",
    "sites_cells = pd.DataFrame(sites, columns = CELL_TYPES )\n",
    "#sums_sites=np.sum(sites,axis=1)\n",
    "#mins_sites = -np.amin(sites,axis=1)\n",
    "#sites_cells = pd.DataFrame(((sites+mins_sites[:,None])/sums_sites[:,None]*100),columns = CELL_TYPES)#np.log(((sites+mins_sites[:,None])/sums_sites[:,None]*100)+1)\n",
    "print(CELL_TYPES)\n",
    "#ct = \"Keratin-positive tumor\"\n",
    "#ct = \"B\"\n",
    "#ct = \"CD8-T\"\n",
    "#ct = \"CD4-T\"\n",
    "#ct = \"Macrophages\"\n",
    "#ct = \"Mesenchymal-like\"\n",
    "#fig, axs = plt.subplots(4, 5, subplot_kw=dict(projection=\"polar\"))\n",
    "#axs[0, 0].plot(x, y)\n",
    "#axs[1, 1].scatter(x, y)\n",
    "for ct in CELL_TYPES:\n",
    "    plt.scatter(x= sites_cells[ct],y = X_fit_cells[ct])\n",
    "    plt.xlabel(\"observed \"+ct)\n",
    "    plt.ylabel(\"predicted \"+ct)\n",
    "    plt.show()\n",
    "\n",
    "'''\n",
    "plt.scatter(x= sites_cells[ct],y = X_fit_cells[ct] - sites_cells[ct])\n",
    "plt.show()\n",
    "\n",
    "print(np.amin(AA_3D.alfa))\n",
    "\n",
    "offset=1e-5\n",
    "plt.scatter(x= (sites_cells[\"CD4-T\"]+offset),y = (sites_cells[\"CD8-T\"]+offset))\n",
    "plt.show()\n",
    "plt.scatter(x= np.log10(sites_cells[\"CD4-T\"]+offset),y = np.log10(sites_cells[\"CD8-T\"]+offset))\n",
    "#plt.scatter(x= np.log10(sites_cells[\"Keratin-positive tumor\"]+offset),y = np.log10(sites_cells[\"CD8-T\"]+offset))\n",
    "plt.show()\n",
    "\n",
    "#residuals_AA3D = np.dot((AA_3D.X- AA_3D.X_approx).T, pca_3d.components_[:ncomp,:])+np.mean(sites, axis=0)\n",
    "#residual_cells = pd.DataFrame(residuals_AA3D, columns = CELL_TYPES)\n",
    "#print(X_fit_cells[\"CD4-T\"])\n",
    "#plt.scatter(x = X_fit_cells[\"CD4-T\"],y=residual_cells[\"CD4-T\"])\n",
    "#plt.show()\n",
    "#print(((sites/sites.sum(axis=1)[:,None])*100)+1,axis=1)\n",
    "'''\n",
    "\n"
   ]
  },
  {
   "cell_type": "code",
   "execution_count": null,
   "metadata": {},
   "outputs": [],
   "source": [
    "ncomp = 3\n",
    "\n",
    "## GET log transformed of cell % for each site \n",
    "sums_sites=np.sum(sites,axis=1)\n",
    "mins_sites = -np.amin(sites,axis=1)\n",
    "sites_cells = pd.DataFrame(np.log(((sites+mins_sites[:,None])/sums_sites[:,None]*100)+1),columns = CELL_TYPES)#np.log(((sites+mins_sites[:,None])/sums_sites[:,None]*100)+1)\n",
    "#sites\n",
    "\n",
    "## ADD TMENs\n",
    "BBs = np.dot(AA_3D.archetypes.T, pca_3d.components_[:ncomp,:])+np.mean(sites, axis=0)\n",
    "#print(BBs)\n",
    "sums_BBs = BBs.sum(axis = 1)\n",
    "mins_BBs = -np.amin(BBs,axis = 1)\n",
    "#print(mins_BBs)\n",
    "TMENs = pd.DataFrame(np.log(((BBs+mins_BBs[:,None])/sums_BBs[:,None]*100)+1),columns = CELL_TYPES)#np.log(((BBs+mins_BBs[:,None])/sums_BBs[:,None]*100)+1)\n",
    "#print(TMENs) BBs\n",
    "#print(np.log(BBs+1))\n",
    "#print(BBs)\n",
    "\n",
    "## PLOT LOG(%) of cells + TMENs\n",
    "plt.scatter(x = sites_cells[\"CD4-T\"],y = sites_cells[\"CD8-T\"])\n",
    "plt.scatter(x = TMENs[\"CD4-T\"],y = TMENs[\"CD8-T\"],color=\"red\")\n",
    "names_tmens = [\"TLS\", \"Inflamm\",\"cancer\",\"fibrotic\"]\n",
    "for i, txt in enumerate(names_tmens):\n",
    "    plt.annotate(txt, (TMENs[\"CD4-T\"][i], TMENs[\"CD8-T\"][i]))\n",
    "plt.xlabel(\"log(%CD4 T cells)\")\n",
    "plt.ylabel(\"log(%CD8 T cells)\")\n",
    "plt.show()"
   ]
  },
  {
   "cell_type": "code",
   "execution_count": null,
   "metadata": {},
   "outputs": [],
   "source": [
    "fig, axs = plt.subplots(len(CELL_TYPES), len(CELL_TYPES))\n",
    "\n",
    "for i in CELL_TYPES:\n",
    "    for j in CELL_TYPES:\n",
    "\n",
    "        idx1 = CELL_TYPES.index(i)\n",
    "        idx2 = CELL_TYPES.index(j)\n",
    "        axs[idx1,idx2].scatter(x = sites_cells[i],y = sites_cells[j])\n",
    "        axs[idx1,idx2].scatter(x = TMENs[i],y = TMENs[j],color=\"red\")\n",
    "        names_tmens = [\"TLS\", \"Inflamm\",\"cancer\",\"fibrotic\"]\n",
    "        for k, txt in enumerate(names_tmens):\n",
    "            axs[idx1,idx2].annotate(txt, (TMENs[i][k], TMENs[j][k]))\n",
    "        axs[idx1,idx2].set_xlabel(\"log(% \"+i+\" cells)\")\n",
    "        axs[idx1,idx2].set_ylabel(\"log(% \"+j+\" cells)\")\n",
    "fig.show()    "
   ]
  },
  {
   "cell_type": "markdown",
   "metadata": {},
   "source": [
    "### Visualization  and interpretation of archetypes"
   ]
  },
  {
   "cell_type": "code",
   "execution_count": null,
   "metadata": {},
   "outputs": [],
   "source": [
    "def round2one(v):\n",
    "    return v if v <= 1.0 else 1.0\n",
    "color_map = np.array([[255, 0, 223],[255,0,0],[70,203,236],[0,0,0]]).T #np.array([[255, 0, 0], [0, 153, 51], [0, 0, 255], [255, 255, 0]]).T\n",
    "sites_archetype = [np.array([round2one(x) for x in color_mapper(color_map, c)/255]) for c in AA_3D.alfa.T]\n",
    "p = np.array(sites_archetype)\n",
    "p[p > 1]"
   ]
  },
  {
   "cell_type": "code",
   "execution_count": null,
   "metadata": {},
   "outputs": [],
   "source": [
    "%matplotlib notebook\n",
    "import matplotlib\n",
    "font = {'size'   : 14}\n",
    "matplotlib.rc('font', **font)\n",
    "plt=plot_3Dscatter_pca(pc3d, pca_3d.explained_variance_ratio_, labels=sites_archetype, archetypes=AA_3D.archetypes);\n",
    "#plt.savefig(\"/srv/mfs/hausserlab/anissa.el/figs/plot_pca_gaussian25.svg\")"
   ]
  },
  {
   "cell_type": "code",
   "execution_count": null,
   "metadata": {},
   "outputs": [],
   "source": [
    "un, counts = np.unique(np.argmax(AA_3D.alfa.T, axis=1), return_counts=True)\n",
    "bb_counts = dict(zip(un+1, (counts/4000)*100))\n",
    "bb_counts"
   ]
  },
  {
   "cell_type": "code",
   "execution_count": null,
   "metadata": {},
   "outputs": [],
   "source": [
    "AA_3D.plot_simplex(AA_3D.alfa, plot_args={'c': sites_archetype})"
   ]
  },
  {
   "cell_type": "code",
   "execution_count": null,
   "metadata": {},
   "outputs": [],
   "source": [
    "n_comp = 3\n",
    "res = np.dot(AA_3D.archetypes.T, pca_3d.components_[:n_comp,:])+np.mean(sites, axis=0)\n",
    "#pd.DataFrame(res).to_csv(\"/srv/mfs/hausserlab/anissa.el/ImmuneStates/wagner_analysis/data/archetypes_building_blocks_17cells_space.csv\")"
   ]
  },
  {
   "cell_type": "code",
   "execution_count": null,
   "metadata": {},
   "outputs": [],
   "source": [
    "#FIXME negative values for density !!!\n",
    "RADIUS = 25\n",
    "archetype_colors = [[255/255, 0., 223/255],[255/255,0.,0.],[70/255,203/255,236/255],[0.,0.,0.]]#[[1., 0., 0.], [0. , 0.6, 0.2], [0., 0., 1.], [1.0, 1.0, 0.]]\n",
    "archetypes_bar_plot(res, CELL_TYPES, archetype_colors, y_axis = 'density', radius = RADIUS,path_fig=\"/scratch/anissa.el/figs/fig2/test.svg\");#\"/scratch/anissa.el/figs/fig2/barplotTMENS.svg\""
   ]
  },
  {
   "cell_type": "code",
   "execution_count": null,
   "metadata": {},
   "outputs": [],
   "source": [
    "for a in range(4):\n",
    "    archetype_simple_plot(res[a], a, archetype_colors, CELL_TYPES, y_axis='density')"
   ]
  },
  {
   "cell_type": "code",
   "execution_count": null,
   "metadata": {},
   "outputs": [],
   "source": [
    "d = np.array([3, 0, 0, 0, 0, 0, 0, 0, 0, 0, 0, 0, 0, 0, 0, 0, 0]).reshape(1, -1)\n",
    "print(d)\n",
    "new_pc = pca_3d.transform(d)\n",
    "AA_3D.transform(new_pc[:, :3])"
   ]
  },
  {
   "cell_type": "markdown",
   "metadata": {},
   "source": [
    "### Export data from PCA and Archetype analysis"
   ]
  },
  {
   "cell_type": "code",
   "execution_count": null,
   "metadata": {},
   "outputs": [],
   "source": [
    "import pickle\n",
    "with open(\"../../output/pca_3d_gaussian\", \"wb\") as f:\n",
    "    pickle.dump(pca_3d, f)\n",
    "\n",
    "with open(\"../../output/AA_3D_gaussian\", \"wb\") as f:\n",
    "    pickle.dump(AA_3D, f)"
   ]
  },
  {
   "cell_type": "markdown",
   "metadata": {},
   "source": [
    "### 3D Archetypes - All tumors - 5 archetypes"
   ]
  },
  {
   "cell_type": "code",
   "execution_count": 4,
   "metadata": {},
   "outputs": [],
   "source": [
    "CELL_TYPES = ['CD8-T', 'Other immune', 'DC / Mono', 'CD3-T', 'B', 'NK', 'Keratin-positive tumor', 'Tumor', \n",
    "              'CD4-T', 'Mesenchymal-like', 'Macrophages', 'Endothelial', 'Tregs', 'Unidentified', 'DC', 'Mono / Neu', \n",
    "              'Neutrophils']\n",
    "#patient_ids = [1, 2, 3, 4, 5]\n",
    "patient_ids = [1, 2, 3, 4, 5, 6, 7, 8, 9, 10, 11, 12, 13, 14, 15, 16, 17, 18, 19, 20, 21, 22, 23, 24, 25, 26, 27, 28, 29, 31, 32, 33, 34, 35, 36, 37, 38, 39, 40, 41]\n",
    "N_SITE = 100\n",
    "RADIUS = 100\n",
    "ROOT_DATA_PATH = \"../../data/cell_positions_data\"\n",
    "\n",
    "abs_log_ca_list = generate_abundance_matrix(CELL_TYPES, patient_ids, N_SITE, RADIUS, method='abs', snr=3, root=ROOT_DATA_PATH)\n",
    "sites, patients_ids,s_ids, _ = join_abundance_matrices(abs_log_ca_list)\n",
    "pca_3d = PCA()\n",
    "pc3d = pca_3d.fit_transform(sites)"
   ]
  },
  {
   "cell_type": "code",
   "execution_count": null,
   "metadata": {},
   "outputs": [],
   "source": [
    "plt.plot(n_archs, lst_exp_var, '-o')\n",
    "plt.ylim(0, 1)\n",
    "plt.show()"
   ]
  },
  {
   "cell_type": "code",
   "execution_count": null,
   "metadata": {},
   "outputs": [],
   "source": [
    "n_archetypes = 5"
   ]
  },
  {
   "cell_type": "code",
   "execution_count": null,
   "metadata": {},
   "outputs": [],
   "source": [
    "AA_3D = ArchetypalAnalysis(n_archetypes = n_archetypes, \n",
    "                        tolerance = 0.001, \n",
    "                        max_iter = 200, \n",
    "                        random_state = 0, \n",
    "                        C = 0.0001, \n",
    "                        initialize = 'random',\n",
    "                        redundancy_try = 30)\n",
    "AA_3D.fit_transform(pc3d[:, :3])"
   ]
  },
  {
   "cell_type": "code",
   "execution_count": null,
   "metadata": {},
   "outputs": [],
   "source": [
    "np.array([0, 153, 51]) / 255"
   ]
  },
  {
   "cell_type": "code",
   "execution_count": null,
   "metadata": {},
   "outputs": [],
   "source": [
    "def round2one(v):\n",
    "    return v if v <= 1.0 else 1.0\n",
    "color_map = np.array([[255, 0, 0], [0, 153, 51], [0, 0, 255], [255, 255, 0], [255, 0, 255]]).T\n",
    "sites_archetype = [np.array([round2one(x) for x in color_mapper(color_map, c)/255]) for c in AA_3D.alfa.T]\n",
    "p = np.array(sites_archetype)\n",
    "p[p > 1]"
   ]
  },
  {
   "cell_type": "code",
   "execution_count": null,
   "metadata": {},
   "outputs": [],
   "source": [
    "#%matplotlib notebook\n",
    "plot_3Dscatter_pca(pc3d, pca_3d.explained_variance_ratio_, labels=sites_archetype, archetypes=AA_3D.archetypes)"
   ]
  },
  {
   "cell_type": "code",
   "execution_count": null,
   "metadata": {},
   "outputs": [],
   "source": [
    "pc3d[:, :3]\n",
    "AA_3D.alfa.T"
   ]
  },
  {
   "cell_type": "code",
   "execution_count": null,
   "metadata": {},
   "outputs": [],
   "source": [
    "AA_3D.plot_simplex(AA_3D.alfa, plot_args={'c': sites_archetype})"
   ]
  },
  {
   "cell_type": "code",
   "execution_count": null,
   "metadata": {},
   "outputs": [],
   "source": [
    "n_comp = 3\n",
    "res = np.dot(AA_3D.archetypes.T, pca_3d.components_[:n_comp,:])+np.mean(sites, axis=0)"
   ]
  },
  {
   "cell_type": "code",
   "execution_count": null,
   "metadata": {
    "scrolled": false
   },
   "outputs": [],
   "source": [
    "archetype_colors = [[1., 0., 0.], [0. , 0.6, 0.2], [0., 0., 1.], [1.0, 1.0, 0.], [1.0, 0, 1.0]]\n",
    "archetypes_bar_plot(res, CELL_TYPES, archetype_colors, y_axis='density', radius=RADIUS)"
   ]
  },
  {
   "cell_type": "code",
   "execution_count": null,
   "metadata": {
    "scrolled": false
   },
   "outputs": [],
   "source": [
    "for a in range(n_archetypes):\n",
    "    archetype_simple_plot(res[a], a, archetype_colors, CELL_TYPES, y_axis='density')"
   ]
  },
  {
   "cell_type": "code",
   "execution_count": null,
   "metadata": {},
   "outputs": [],
   "source": [
    "d = np.array([3, 0, 0, 0, 0, 0, 0, 0, 0, 0, 0, 0, 0, 0, 0, 0, 0]).reshape(1, -1)\n",
    "print(d)\n",
    "new_pc = pca_3d.transform(d)\n",
    "AA_3D.transform(new_pc[:, :3])"
   ]
  },
  {
   "cell_type": "code",
   "execution_count": null,
   "metadata": {},
   "outputs": [],
   "source": [
    "import pickle\n",
    "with open(\"../../output/pca_3d\", \"wb\") as f:\n",
    "    pickle.dump(pca_3d, f)\n",
    "\n",
    "with open(\"../../output/AA_3D\", \"wb\") as f:\n",
    "    pickle.dump(AA_3D, f)"
   ]
  }
 ],
 "metadata": {
  "kernelspec": {
   "display_name": "Python 3",
   "language": "python",
   "name": "python3"
  },
  "language_info": {
   "codemirror_mode": {
    "name": "ipython",
    "version": 3
   },
   "file_extension": ".py",
   "mimetype": "text/x-python",
   "name": "python",
   "nbconvert_exporter": "python",
   "pygments_lexer": "ipython3",
   "version": "3.7.11"
  }
 },
 "nbformat": 4,
 "nbformat_minor": 4
}
